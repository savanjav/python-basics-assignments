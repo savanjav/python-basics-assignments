{
 "cells": [
  {
   "cell_type": "markdown",
   "metadata": {},
   "source": [
    "<b>1. In the below elements which of them are values or an expression? eg:- values can be\n",
    "integer or string and expressions will be mathematical operators.</b>\n",
    "*\n",
    "<p>&#39;hello&#39;</p>\n",
    "<p>-87.8</p>\n",
    "<p>-</p>\n",
    "<p>/</p>\n",
    "<p>+</p>\n",
    "<p>6</p><br>\n",
    "<u>ANSWER</u>\n",
    "\n",
    "mathematical operators = {*, -, /, +} <br>\n",
    "values = {'hello', -87.8, 6}"
   ]
  },
  {
   "cell_type": "markdown",
   "metadata": {},
   "source": [
    "<b>2. What is the difference between string and variable?</b>\n",
    "\n",
    "<u>ANSWER</u>\n",
    "\n",
    "String is a collection or array of characters and variable is a quantity that is pointing to memory block in which different types of values can be stored, updated and remove and fetch. "
   ]
  },
  {
   "cell_type": "markdown",
   "metadata": {},
   "source": [
    "<b>3. Describe three different data types.</b>\n",
    "\n",
    "<u>ANSWER</u>\n",
    "\n",
    "Python built in data types<br>\n",
    "1. List <br>\n",
    "- Lists are used to store multiple items in a single variable.\n",
    "- Lists are created using square brackets\n",
    "- List items are ordered, changeable, and allow duplicate values.\n",
    "- Items can be accessible using single index and ranges. postive range calculate index from start and negative range calculate index from end\n",
    "- Ex : thislist = [\"apple\", \"banana\", \"cherry\", \"apple\", \"cherry\"]\n",
    "\n",
    "2. Tuple<br>\n",
    "- Tuples are used to store multiple items in a single variable.\n",
    "- Tuple items are ordered, unchangeable, and allow duplicate values.\n",
    "- Ex: thistouple = (\"apple\", \"banana\", \"cherry\", \"apple\", \"cherry\")\n",
    "\n",
    "2. Set\n",
    "- Sets are used to store multiple items in a single variable.\n",
    "- A set is a collection which is both unordered and unindexed.\n",
    "- sets are unnchangable and duplicates not allowed\n",
    "- Ex: thisset = {\"apple\", \"banana\", \"cherry\", \"apple\"}"
   ]
  },
  {
   "cell_type": "markdown",
   "metadata": {},
   "source": [
    "<b>4. What is an expression made up of? What do all expressions do?</b>\n",
    "\n",
    "<u>ANSWER</u>\n",
    "\n",
    "- An expression is a combination of values, variables, operators, and calls to functions.\n",
    "- Expression do some kind of evaluation on data."
   ]
  },
  {
   "cell_type": "markdown",
   "metadata": {},
   "source": [
    "<b>5. This assignment statements, like spam = 10. What is the difference between an\n",
    "expression and a statement?</b>\n",
    "\n",
    "<u>ANSWER</u>\n",
    "\n",
    "- when spam = 10 will return value then it is expression, and not return spam then it will be statement which can compiler do execute.\n"
   ]
  },
  {
   "cell_type": "markdown",
   "metadata": {},
   "source": [
    "<b>6. After running the following code, what does the variable bacon contain?\n",
    "<br>bacon = 22\n",
    "<br>bacon + 1</b>\n",
    "\n",
    "<u> ANSWER <u>\n",
    "    \n",
    "    22"
   ]
  },
  {
   "cell_type": "markdown",
   "metadata": {},
   "source": [
    "<b>7. What should the values of the following two terms be?\n",
    "<br>&#39;spam&#39; + &#39;spamspam&#39;\n",
    "<br>&#39;spam&#39; * 3</b>\n",
    "\n",
    "<u> ANSWER </u>\n",
    "    \n",
    "    both terms will give same value => 'spamspamspam' "
   ]
  },
  {
   "cell_type": "markdown",
   "metadata": {},
   "source": [
    "<b>8. Why is eggs a valid variable name while 100 is invalid?</b>\n",
    "\n",
    "<u> ANSWER </u>\n",
    "- eggs is allowed in variable convention rules of compiler so it's allowed\n",
    "- Language rules not allowed for numeric variable name declaration for simplicity of lexical analysis and parsing in compiler\n",
    "- Example : we declare numeric variable name like 100 = 1 then also semantic meaning also changed"
   ]
  },
  {
   "cell_type": "markdown",
   "metadata": {},
   "source": [
    "<b>9. What three functions can be used to get the integer, floating-point number, or string\n",
    "version of a value?</b>\n",
    "\n",
    "<u> ANSWER </u>\n",
    "\n",
    "int(), float(), str()"
   ]
  },
  {
   "cell_type": "markdown",
   "metadata": {},
   "source": [
    "<b>10. Why does this expression cause an error? How can you fix it?\n",
    "&#39;I have eaten &#39; + 99 + &#39; burritos.&#39;</b>\n",
    "\n",
    "<u> ANSWER </u>\n",
    "\n",
    "- python not allowed string concat with number directly. we have to use formt() to do this.\n"
   ]
  },
  {
   "cell_type": "code",
   "execution_count": 11,
   "metadata": {},
   "outputs": [
    {
     "name": "stdout",
     "output_type": "stream",
     "text": [
      "I have eaten 99 burritos\n"
     ]
    }
   ],
   "source": [
    "num = 99\n",
    "txt = \"I have eaten {} burritos\"\n",
    "print(txt.format(num))"
   ]
  },
  {
   "cell_type": "code",
   "execution_count": null,
   "metadata": {},
   "outputs": [],
   "source": []
  }
 ],
 "metadata": {
  "kernelspec": {
   "display_name": "Python 3",
   "language": "python",
   "name": "python3"
  },
  "language_info": {
   "codemirror_mode": {
    "name": "ipython",
    "version": 3
   },
   "file_extension": ".py",
   "mimetype": "text/x-python",
   "name": "python",
   "nbconvert_exporter": "python",
   "pygments_lexer": "ipython3",
   "version": "3.8.5"
  }
 },
 "nbformat": 4,
 "nbformat_minor": 4
}
