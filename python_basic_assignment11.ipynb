{
 "cells": [
  {
   "cell_type": "markdown",
   "id": "51ee8e2e",
   "metadata": {},
   "source": [
    "<b>1. Create an assert statement that throws an AssertionError if the variable spam is a negative\n",
    "integer.</b>"
   ]
  },
  {
   "cell_type": "code",
   "execution_count": 4,
   "id": "92a13951",
   "metadata": {},
   "outputs": [
    {
     "ename": "AssertionError",
     "evalue": "",
     "output_type": "error",
     "traceback": [
      "\u001b[1;31m---------------------------------------------------------------------------\u001b[0m",
      "\u001b[1;31mAssertionError\u001b[0m                            Traceback (most recent call last)",
      "\u001b[1;32m~\\AppData\\Local\\Temp/ipykernel_2748/3364715712.py\u001b[0m in \u001b[0;36m<module>\u001b[1;34m\u001b[0m\n\u001b[0;32m      1\u001b[0m \u001b[0mspam\u001b[0m \u001b[1;33m=\u001b[0m \u001b[1;33m-\u001b[0m\u001b[1;36m1\u001b[0m\u001b[1;33m\u001b[0m\u001b[1;33m\u001b[0m\u001b[0m\n\u001b[1;32m----> 2\u001b[1;33m \u001b[1;32massert\u001b[0m \u001b[0mspam\u001b[0m\u001b[1;33m>\u001b[0m\u001b[1;36m0\u001b[0m\u001b[1;33m\u001b[0m\u001b[1;33m\u001b[0m\u001b[0m\n\u001b[0m",
      "\u001b[1;31mAssertionError\u001b[0m: "
     ]
    }
   ],
   "source": [
    "spam = -1\n",
    "assert spam>0"
   ]
  },
  {
   "cell_type": "markdown",
   "id": "6c4dfdca",
   "metadata": {},
   "source": [
    "<b>2. Write an assert statement that triggers an AssertionError if the variables eggs and bacon contain\n",
    "strings that are the same as each other, even if their cases are different (that is, &#39;hello&#39; and &#39;hello&#39; are\n",
    "considered the same, and &#39;goodbye&#39; and &#39;GOODbye&#39; are also considered the same).</b>"
   ]
  },
  {
   "cell_type": "code",
   "execution_count": 7,
   "id": "b42b3efc",
   "metadata": {},
   "outputs": [
    {
     "ename": "AssertionError",
     "evalue": "",
     "output_type": "error",
     "traceback": [
      "\u001b[1;31m---------------------------------------------------------------------------\u001b[0m",
      "\u001b[1;31mAssertionError\u001b[0m                            Traceback (most recent call last)",
      "\u001b[1;32m~\\AppData\\Local\\Temp/ipykernel_2748/1703035760.py\u001b[0m in \u001b[0;36m<module>\u001b[1;34m\u001b[0m\n\u001b[0;32m      1\u001b[0m \u001b[0meggs\u001b[0m \u001b[1;33m=\u001b[0m \u001b[1;34m'Hi'\u001b[0m\u001b[1;33m\u001b[0m\u001b[1;33m\u001b[0m\u001b[0m\n\u001b[0;32m      2\u001b[0m \u001b[0mbacon\u001b[0m \u001b[1;33m=\u001b[0m \u001b[1;34m'hi'\u001b[0m\u001b[1;33m\u001b[0m\u001b[1;33m\u001b[0m\u001b[0m\n\u001b[1;32m----> 3\u001b[1;33m \u001b[1;32massert\u001b[0m \u001b[0meggs\u001b[0m\u001b[1;33m.\u001b[0m\u001b[0mlower\u001b[0m\u001b[1;33m(\u001b[0m\u001b[1;33m)\u001b[0m \u001b[1;33m!=\u001b[0m \u001b[0mbacon\u001b[0m\u001b[1;33m.\u001b[0m\u001b[0mlower\u001b[0m\u001b[1;33m(\u001b[0m\u001b[1;33m)\u001b[0m\u001b[1;33m\u001b[0m\u001b[1;33m\u001b[0m\u001b[0m\n\u001b[0m",
      "\u001b[1;31mAssertionError\u001b[0m: "
     ]
    }
   ],
   "source": [
    "eggs = 'Hi'\n",
    "bacon = 'hi'\n",
    "assert eggs.lower() != bacon.lower() "
   ]
  },
  {
   "cell_type": "markdown",
   "id": "17098727",
   "metadata": {},
   "source": [
    "<b>3. Create an assert statement that throws an AssertionError every time.</b>"
   ]
  },
  {
   "cell_type": "code",
   "execution_count": 10,
   "id": "af277fa2",
   "metadata": {},
   "outputs": [
    {
     "ename": "AssertionError",
     "evalue": "",
     "output_type": "error",
     "traceback": [
      "\u001b[1;31m---------------------------------------------------------------------------\u001b[0m",
      "\u001b[1;31mAssertionError\u001b[0m                            Traceback (most recent call last)",
      "\u001b[1;32m~\\AppData\\Local\\Temp/ipykernel_2748/2358989623.py\u001b[0m in \u001b[0;36m<module>\u001b[1;34m\u001b[0m\n\u001b[1;32m----> 1\u001b[1;33m \u001b[1;32massert\u001b[0m \u001b[1;36m1\u001b[0m\u001b[1;33m==\u001b[0m\u001b[1;36m2\u001b[0m\u001b[1;33m\u001b[0m\u001b[1;33m\u001b[0m\u001b[0m\n\u001b[0m",
      "\u001b[1;31mAssertionError\u001b[0m: "
     ]
    }
   ],
   "source": [
    "assert 1==2"
   ]
  },
  {
   "cell_type": "markdown",
   "id": "5f1c8387",
   "metadata": {},
   "source": [
    "<b>4. What are the two lines that must be present in your software in order to call logging.debug()?</b>"
   ]
  },
  {
   "cell_type": "code",
   "execution_count": 1,
   "id": "74bc9b15",
   "metadata": {},
   "outputs": [],
   "source": [
    "import logging    \n",
    "logging.basicConfig(level=logging.DEBUG)  "
   ]
  },
  {
   "cell_type": "markdown",
   "id": "ef7a92f2",
   "metadata": {},
   "source": [
    "<b>5. What are the two lines that your program must have in order to have logging.debug() send a\n",
    "logging message to a file named programLog.txt?</b>"
   ]
  },
  {
   "cell_type": "code",
   "execution_count": 2,
   "id": "a67d4da4",
   "metadata": {},
   "outputs": [],
   "source": [
    "import logging\n",
    "logging.basicConfig(filename=\"programLog.txt\",  \n",
    "               format='%(asctime)s %(message)s',  \n",
    "               filemode='w')  "
   ]
  },
  {
   "cell_type": "markdown",
   "id": "6f7560b8",
   "metadata": {},
   "source": [
    "<b>6. What are the five levels of logging?</b>"
   ]
  },
  {
   "cell_type": "markdown",
   "id": "6ff1bc16",
   "metadata": {},
   "source": [
    "DEBUG(LEVEL=10), INFO(LEVEL=20), WARNING(LEVEL=30), ERROR(LEVEL=40), CRITICAL(LEVEL=50)"
   ]
  },
  {
   "cell_type": "markdown",
   "id": "0e638317",
   "metadata": {},
   "source": [
    "<b>7. What line of code would you add to your software to disable all logging messages?</b>"
   ]
  },
  {
   "cell_type": "code",
   "execution_count": 3,
   "id": "39c3c08a",
   "metadata": {},
   "outputs": [],
   "source": [
    "import logging\n",
    "logging.disable()"
   ]
  },
  {
   "cell_type": "markdown",
   "id": "ea47b876",
   "metadata": {},
   "source": [
    "<b>8.Why is using logging messages better than using print() to display the same message?</b>"
   ]
  },
  {
   "cell_type": "markdown",
   "id": "bfd2360c",
   "metadata": {},
   "source": [
    "On production server logging will helpfull for analysis."
   ]
  },
  {
   "cell_type": "markdown",
   "id": "2672a5d6",
   "metadata": {},
   "source": [
    "<b>9. What are the differences between the Step Over, Step In, and Step Out buttons in the debugger?</b>"
   ]
  },
  {
   "cell_type": "markdown",
   "id": "c05063e9",
   "metadata": {},
   "source": [
    "Step In: will transfer control to next line of a method.<br><br>\n",
    "Step Over: A method is about to be invoked, but you're not interested in debugging this particular invocation, so you want the debugger to execute that method completely as one entire step.   <br><br>\n",
    "Step Out: executes the rest of the current function and breaks when the function return is completed.\n"
   ]
  },
  {
   "cell_type": "markdown",
   "id": "2d5f840d",
   "metadata": {},
   "source": [
    "<b>10.After you click Continue, when will the debugger stop ?</b>"
   ]
  },
  {
   "cell_type": "markdown",
   "id": "58ad00f4",
   "metadata": {},
   "source": [
    "Stop at next breakpoint, or at the end of the method execution. "
   ]
  },
  {
   "cell_type": "markdown",
   "id": "ae5ef1c6",
   "metadata": {},
   "source": [
    "<b>11. What is the concept of a breakpoint?</b>"
   ]
  },
  {
   "cell_type": "markdown",
   "id": "ef5de83c",
   "metadata": {},
   "source": [
    "We can set break point at any line inside method, Debuger will stop at next breakpoint after Click Countinue."
   ]
  },
  {
   "cell_type": "code",
   "execution_count": null,
   "id": "2de47586",
   "metadata": {},
   "outputs": [],
   "source": []
  }
 ],
 "metadata": {
  "kernelspec": {
   "display_name": "Python 3 (ipykernel)",
   "language": "python",
   "name": "python3"
  },
  "language_info": {
   "codemirror_mode": {
    "name": "ipython",
    "version": 3
   },
   "file_extension": ".py",
   "mimetype": "text/x-python",
   "name": "python",
   "nbconvert_exporter": "python",
   "pygments_lexer": "ipython3",
   "version": "3.8.10"
  }
 },
 "nbformat": 4,
 "nbformat_minor": 5
}
