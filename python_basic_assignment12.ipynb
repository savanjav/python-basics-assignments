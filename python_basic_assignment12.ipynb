{
 "cells": [
  {
   "cell_type": "markdown",
   "id": "7948ec75",
   "metadata": {},
   "source": [
    "<b>1. In what modes should the PdfFileReader() and PdfFileWriter() File objects will be opened?</b>"
   ]
  },
  {
   "cell_type": "markdown",
   "id": "80b14dcf",
   "metadata": {},
   "source": [
    "PdfFileReader should open in 'rb' mode and PdfFileWriter should open in 'wb' mode"
   ]
  },
  {
   "cell_type": "markdown",
   "id": "2738dc04",
   "metadata": {},
   "source": [
    "<b>2. From a PdfFileReader object, how do you get a Page object for page 5?</b>"
   ]
  },
  {
   "cell_type": "code",
   "execution_count": 2,
   "id": "83639d97",
   "metadata": {},
   "outputs": [],
   "source": [
    "from PyPDF2 import PdfFileReader\n",
    "def extract_pdfText(path):\n",
    "    with open(path,'rb') as f:\n",
    "        pdf = PdfFileReader(f)\n",
    "        page = pdf.getPage(5)"
   ]
  },
  {
   "cell_type": "markdown",
   "id": "5634f38a",
   "metadata": {},
   "source": [
    "<b>3. What PdfFileReader variable stores the number of pages in the PDF document?</b>"
   ]
  },
  {
   "cell_type": "code",
   "execution_count": 3,
   "id": "00faa236",
   "metadata": {},
   "outputs": [],
   "source": [
    "def extract_pdfMeta(path):\n",
    "    with open(path,'rb') as f:\n",
    "        pdf = PdfFileReader(f)\n",
    "        number_of_pages = pdf.getNumPages()"
   ]
  },
  {
   "cell_type": "markdown",
   "id": "3dea7dc7",
   "metadata": {},
   "source": [
    "<b>4. If a PdfFileReader object’s PDF is encrypted with the password swordfish, what must you do\n",
    "before you can obtain Page objects from it?</b>"
   ]
  },
  {
   "cell_type": "markdown",
   "id": "7fdca72d",
   "metadata": {},
   "source": [
    "decrypt('swordfish') must call of PdfFileReader object."
   ]
  },
  {
   "cell_type": "markdown",
   "id": "f95ab2af",
   "metadata": {},
   "source": [
    "<b>5. What methods do you use to rotate a page?</b>"
   ]
  },
  {
   "cell_type": "markdown",
   "id": "32237775",
   "metadata": {},
   "source": [
    "rotateClockwise(degree) method of page object is use."
   ]
  },
  {
   "cell_type": "markdown",
   "id": "272b6c5c",
   "metadata": {},
   "source": [
    "<b>6. What is the difference between a Run object and a Paragraph object?</b>"
   ]
  },
  {
   "cell_type": "markdown",
   "id": "4a070ac0",
   "metadata": {},
   "source": [
    "Each Paragraph object also has a runs attribute that is a list of Run objects. Run objects also have a text attribute, containing just the text in that particular run."
   ]
  },
  {
   "cell_type": "markdown",
   "id": "413da150",
   "metadata": {},
   "source": [
    "<b>7. How do you obtain a list of Paragraph objects for a Document object that’s stored in a variable\n",
    "named doc?</b>"
   ]
  },
  {
   "cell_type": "markdown",
   "id": "e5894ab7",
   "metadata": {},
   "source": [
    "doc.paragraphs"
   ]
  },
  {
   "cell_type": "markdown",
   "id": "462a15e6",
   "metadata": {},
   "source": [
    "<b>8. What type of object has bold, underline, italic, strike, and outline variables?</b>"
   ]
  },
  {
   "cell_type": "markdown",
   "id": "8d2c2add",
   "metadata": {},
   "source": [
    "runs Object of doc.paragraphs Object. "
   ]
  },
  {
   "cell_type": "markdown",
   "id": "faa50cb3",
   "metadata": {},
   "source": [
    "<b>9. What is the difference between False, True, and None for the bold variable?</b>"
   ]
  },
  {
   "cell_type": "markdown",
   "id": "88d0a286",
   "metadata": {},
   "source": [
    "True means the property is 'on', False means it is 'off'. Conceptually, the None value means 'inherit'."
   ]
  },
  {
   "cell_type": "markdown",
   "id": "6a05a2c8",
   "metadata": {},
   "source": [
    "<b>10. How do you create a Document object for a new Word document?</b>"
   ]
  },
  {
   "cell_type": "code",
   "execution_count": 5,
   "id": "b758279b",
   "metadata": {},
   "outputs": [],
   "source": [
    "from docx import Document\n",
    "document = Document()"
   ]
  },
  {
   "cell_type": "markdown",
   "id": "80e529ca",
   "metadata": {},
   "source": [
    "<b>11. How do you add a paragraph with the text &#39;Hello, there!&#39; to a Document object stored in a\n",
    "variable named doc?</b>"
   ]
  },
  {
   "cell_type": "code",
   "execution_count": 6,
   "id": "2e2427c5",
   "metadata": {},
   "outputs": [
    {
     "data": {
      "text/plain": [
       "<docx.text.paragraph.Paragraph at 0x1fa6e3120d0>"
      ]
     },
     "execution_count": 6,
     "metadata": {},
     "output_type": "execute_result"
    }
   ],
   "source": [
    "import docx\n",
    "doc = docx.Document()\n",
    "doc.add_paragraph('Hello there!')"
   ]
  },
  {
   "cell_type": "markdown",
   "id": "9f9f43bc",
   "metadata": {},
   "source": [
    "<b>12. What integers represent the levels of headings available in Word documents?</b>"
   ]
  },
  {
   "cell_type": "markdown",
   "id": "5b72c768",
   "metadata": {},
   "source": [
    "1 to 9 integers represents respective level of heading"
   ]
  },
  {
   "cell_type": "code",
   "execution_count": null,
   "id": "3d91dfcc",
   "metadata": {},
   "outputs": [],
   "source": []
  }
 ],
 "metadata": {
  "kernelspec": {
   "display_name": "Python 3 (ipykernel)",
   "language": "python",
   "name": "python3"
  },
  "language_info": {
   "codemirror_mode": {
    "name": "ipython",
    "version": 3
   },
   "file_extension": ".py",
   "mimetype": "text/x-python",
   "name": "python",
   "nbconvert_exporter": "python",
   "pygments_lexer": "ipython3",
   "version": "3.9.7"
  }
 },
 "nbformat": 4,
 "nbformat_minor": 5
}
