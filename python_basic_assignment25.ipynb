{
 "cells": [
  {
   "cell_type": "markdown",
   "id": "b2218d26",
   "metadata": {},
   "source": [
    "<b>1) . What is the difference between enclosing a list comprehension in square brackets and\n",
    "parentheses?</b>"
   ]
  },
  {
   "cell_type": "markdown",
   "id": "8b17e3c1",
   "metadata": {},
   "source": [
    "Square brackets are lists while parentheses are tuples."
   ]
  },
  {
   "cell_type": "markdown",
   "id": "84fd8643",
   "metadata": {},
   "source": [
    "<b>2) What is the relationship between generators and iterators?</b>"
   ]
  },
  {
   "cell_type": "markdown",
   "id": "c4fe00a8",
   "metadata": {},
   "source": [
    "Iterators are the objects that use the next() method to get the next value of the sequence. A generator is a function that produces or yields a sequence of values using a yield statement."
   ]
  },
  {
   "cell_type": "markdown",
   "id": "45a9fa56",
   "metadata": {},
   "source": [
    "<b>3) What are the signs that a function is a generator function?</b>"
   ]
  },
  {
   "cell_type": "markdown",
   "id": "97a29621",
   "metadata": {},
   "source": [
    "If a function contains at least one yield statement (it may contain other yield or return statements), it becomes a generator function. Both yield and return will return some value from a function."
   ]
  },
  {
   "cell_type": "markdown",
   "id": "18d8d242",
   "metadata": {},
   "source": [
    "<b>4) What is the purpose of a yield statement?</b>"
   ]
  },
  {
   "cell_type": "markdown",
   "id": "6d76e674",
   "metadata": {},
   "source": [
    "The yield statement suspends function's execution and sends a value back to the caller, but retains enough state to enable function to resume where it is left off. When resumed, the function continues execution immediately after the last yield run"
   ]
  },
  {
   "cell_type": "markdown",
   "id": "16a763db",
   "metadata": {},
   "source": [
    "<b>5) What is the relationship between map calls and list comprehensions? Make a comparison and\n",
    "contrast between the two.</b>"
   ]
  },
  {
   "cell_type": "markdown",
   "id": "e6231b02",
   "metadata": {},
   "source": [
    "List comprehension is more concise and easier to read as compared to map. List comprehension are used when a list of results is required as map only returns a map object and does not return any list. Map is faster in case of calling an already defined function (as no lambda is required)."
   ]
  },
  {
   "cell_type": "code",
   "execution_count": null,
   "id": "74f3961f",
   "metadata": {},
   "outputs": [],
   "source": []
  }
 ],
 "metadata": {
  "kernelspec": {
   "display_name": "Python 3 (ipykernel)",
   "language": "python",
   "name": "python3"
  },
  "language_info": {
   "codemirror_mode": {
    "name": "ipython",
    "version": 3
   },
   "file_extension": ".py",
   "mimetype": "text/x-python",
   "name": "python",
   "nbconvert_exporter": "python",
   "pygments_lexer": "ipython3",
   "version": "3.8.10"
  }
 },
 "nbformat": 4,
 "nbformat_minor": 5
}
