{
 "cells": [
  {
   "cell_type": "markdown",
   "id": "8b2e324a",
   "metadata": {},
   "source": [
    "<b>1. How do you distinguish between shutil.copy() and shutil.copytree()?</b>"
   ]
  },
  {
   "cell_type": "markdown",
   "id": "b8b826d5",
   "metadata": {},
   "source": [
    "shutil. copy() will copy a single file, shutil. copytree() will copy an entire folder and every folder and file contained in it."
   ]
  },
  {
   "cell_type": "markdown",
   "id": "a71f23a6",
   "metadata": {},
   "source": [
    "<b>2. What function is used to rename files?</b>"
   ]
  },
  {
   "cell_type": "markdown",
   "id": "554cc86a",
   "metadata": {},
   "source": [
    "rename function of os module."
   ]
  },
  {
   "cell_type": "markdown",
   "id": "244a4d3e",
   "metadata": {},
   "source": [
    "<b>3. What is the difference between the delete functions in the send2trash and shutil modules?</b>"
   ]
  },
  {
   "cell_type": "markdown",
   "id": "2f2bf700",
   "metadata": {},
   "source": [
    "The send2trash functions will move a file or folder to the recycle bin, while shutil functions will permanently delete files and folders."
   ]
  },
  {
   "cell_type": "markdown",
   "id": "0e655553",
   "metadata": {},
   "source": [
    "<b>4.ZipFile objects have a close() method just like File objects’ close() method. What ZipFile method is\n",
    "equivalent to File objects’ open() method?</b>"
   ]
  },
  {
   "cell_type": "markdown",
   "id": "f0c856b0",
   "metadata": {},
   "source": [
    " zipfile.ZipFile('images.zip', 'r')\n"
   ]
  },
  {
   "cell_type": "code",
   "execution_count": 28,
   "id": "5a97adb9",
   "metadata": {},
   "outputs": [],
   "source": [
    "import os\n",
    "import shutil\n",
    "# assign directory\n",
    "directory = 'C:/Users/savan/Desktop/TEST'\n",
    " \n",
    "# iterate over files in\n",
    "# that directory\n",
    "for filename in os.listdir(directory):\n",
    "    f = os.path.join(directory, filename)\n",
    "    # checking if it is a file\n",
    "    if os.path.isfile(f):\n",
    "        if filename.endswith('.jpg') or filename.endswith('.pdf'):           \n",
    "            copyDir = directory+'/New Folder/'\n",
    "            if not os.path.isdir(copyDir):\n",
    "                os.mkdir(copyDir)\n",
    "            shutil.copy(f,os.path.join(copyDir, filename))\n",
    "                "
   ]
  },
  {
   "cell_type": "code",
   "execution_count": null,
   "id": "5e6e8c5f",
   "metadata": {},
   "outputs": [],
   "source": []
  }
 ],
 "metadata": {
  "kernelspec": {
   "display_name": "Python 3 (ipykernel)",
   "language": "python",
   "name": "python3"
  },
  "language_info": {
   "codemirror_mode": {
    "name": "ipython",
    "version": 3
   },
   "file_extension": ".py",
   "mimetype": "text/x-python",
   "name": "python",
   "nbconvert_exporter": "python",
   "pygments_lexer": "ipython3",
   "version": "3.8.10"
  }
 },
 "nbformat": 4,
 "nbformat_minor": 5
}
