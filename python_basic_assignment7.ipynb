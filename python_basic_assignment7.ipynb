{
 "cells": [
  {
   "cell_type": "markdown",
   "id": "manufactured-boxing",
   "metadata": {},
   "source": [
    "<b>1. What is the name of the feature responsible for generating Regex objects?</b>"
   ]
  },
  {
   "cell_type": "markdown",
   "id": "atomic-teaching",
   "metadata": {},
   "source": [
    "re.compile()"
   ]
  },
  {
   "cell_type": "markdown",
   "id": "annual-label",
   "metadata": {},
   "source": [
    "<b>2. Why do raw strings often appear in Regex objects?</b>"
   ]
  },
  {
   "cell_type": "markdown",
   "id": "known-dominant",
   "metadata": {},
   "source": [
    "row string is use for not escaping \\ character in string."
   ]
  },
  {
   "cell_type": "markdown",
   "id": "cosmetic-google",
   "metadata": {},
   "source": [
    "<b>3. What is the return value of the search() method?</b>"
   ]
  },
  {
   "cell_type": "markdown",
   "id": "altered-master",
   "metadata": {},
   "source": [
    "Match object"
   ]
  },
  {
   "cell_type": "markdown",
   "id": "dirty-injury",
   "metadata": {},
   "source": [
    "<b>4. From a Match item, how do you get the actual strings that match the pattern?</b>"
   ]
  },
  {
   "cell_type": "markdown",
   "id": "educated-planner",
   "metadata": {},
   "source": [
    "by calling group() method of match object returns actual strings that match the pattern."
   ]
  },
  {
   "cell_type": "markdown",
   "id": "parliamentary-anxiety",
   "metadata": {},
   "source": [
    "<b> 5. In the regex which created from the r&#39;(\\d\\d\\d)-(\\d\\d\\d-\\d\\d\\d\\d)&#39;, what does group zero cover?\n",
    "Group 2? Group 1? </b>"
   ]
  },
  {
   "cell_type": "markdown",
   "id": "annoying-residence",
   "metadata": {},
   "source": [
    "group zero covers eniter match, group 1 covers first parantheses, group 2 covers second parantheses and can be used group 1 and 2 both will give tuple values."
   ]
  },
  {
   "cell_type": "markdown",
   "id": "continuous-project",
   "metadata": {},
   "source": [
    "<b>6. In standard expression syntax, parentheses and intervals have distinct meanings. How can you tell\n",
    "a regex that you want it to fit real parentheses and periods?</b>"
   ]
  },
  {
   "cell_type": "code",
   "execution_count": 25,
   "id": "featured-stocks",
   "metadata": {},
   "outputs": [
    {
     "name": "stdout",
     "output_type": "stream",
     "text": [
      "<_sre.SRE_Match object; span=(1, 2), match='.'>\n",
      "<_sre.SRE_Match object; span=(12, 14), match='()'>\n"
     ]
    }
   ],
   "source": [
    "import re\n",
    "#period match\n",
    "period_return = re.search(r'\\.', \"a.period.separated.string\")\n",
    "print (period_return)\n",
    "\n",
    "#parentheses match\n",
    "parentheses_return = re.search(r'\\(\\)',\"This is test() method!\")\n",
    "print (parentheses_return)"
   ]
  },
  {
   "cell_type": "markdown",
   "id": "conditional-scientist",
   "metadata": {},
   "source": [
    "<b> 7. The findall() method returns a string list or a list of string tuples. What causes it to return one of\n",
    "the two options? </b>"
   ]
  },
  {
   "cell_type": "markdown",
   "id": "martial-preview",
   "metadata": {},
   "source": [
    "If the regex has no groups, a list of strings is returned. If the regex has groups, a list of tuples of strings is returned."
   ]
  },
  {
   "cell_type": "code",
   "execution_count": 28,
   "id": "dense-concentration",
   "metadata": {},
   "outputs": [
    {
     "name": "stdout",
     "output_type": "stream",
     "text": [
      "[('PINEAPPLE', '20')]\n"
     ]
    }
   ],
   "source": [
    "test = \"The price of PINEAPPLE ice cream is 20 rs\"\n",
    "result = re.findall(r\"(\\b[A-Z]+\\b).+(\\b\\d+)\", test)\n",
    "print (result)"
   ]
  },
  {
   "cell_type": "markdown",
   "id": "confused-pacific",
   "metadata": {},
   "source": [
    "<b>8. In standard expressions, what does the | character mean?</b>"
   ]
  },
  {
   "cell_type": "markdown",
   "id": "stone-douglas",
   "metadata": {},
   "source": [
    "in regular expression values given between | return matches if at least one value is match "
   ]
  },
  {
   "cell_type": "markdown",
   "id": "simplified-chart",
   "metadata": {},
   "source": [
    "<b> 9. In regular expressions, what does the character stand for? </b>"
   ]
  },
  {
   "cell_type": "markdown",
   "id": "remarkable-homeless",
   "metadata": {},
   "source": [
    "in regex character sand for matching purpose."
   ]
  },
  {
   "cell_type": "markdown",
   "id": "editorial-custom",
   "metadata": {},
   "source": [
    "<b>10.In regular expressions, what is the difference between the + and * characters?</b>"
   ]
  },
  {
   "cell_type": "markdown",
   "id": "naughty-terrain",
   "metadata": {},
   "source": [
    "\\+ matches 1 or more <br> * matches 0 or more"
   ]
  },
  {
   "cell_type": "markdown",
   "id": "retired-regression",
   "metadata": {},
   "source": [
    "<b>11. What is the difference between {4} and {4,5} in regular expression?</b>"
   ]
  },
  {
   "cell_type": "markdown",
   "id": "familiar-harvard",
   "metadata": {},
   "source": [
    "{4} will check for exact 4 repeatation of instance and {4,5} will check for between 4 to 5 repeation instance"
   ]
  },
  {
   "cell_type": "code",
   "execution_count": 5,
   "id": "earlier-craft",
   "metadata": {},
   "outputs": [
    {
     "name": "stdout",
     "output_type": "stream",
     "text": [
      "['Hiiii']\n",
      "['Hiiiii']\n"
     ]
    }
   ],
   "source": [
    "import re\n",
    "txt = \"Hiiiii how are you\"\n",
    "x = re.findall(\"Hi{4}\", txt)\n",
    "print (x)\n",
    "x = re.findall(\"Hi{4,5}\", txt)\n",
    "print (x)\n"
   ]
  },
  {
   "cell_type": "markdown",
   "id": "traditional-spectacular",
   "metadata": {},
   "source": [
    "<b>12. What do you mean by the \\d, \\w, and \\s shorthand character classes signify in regular\n",
    "expressions?</b>"
   ]
  },
  {
   "cell_type": "markdown",
   "id": "featured-export",
   "metadata": {},
   "source": [
    "\\d => match single digit<br>\n",
    "\\w => match word <br>\n",
    "\\s => match white space"
   ]
  },
  {
   "cell_type": "markdown",
   "id": "noticed-mapping",
   "metadata": {},
   "source": [
    "<b> 13. What do means by \\D, \\W, and \\S shorthand character classes signify in regular expressions? </b>"
   ]
  },
  {
   "cell_type": "markdown",
   "id": "necessary-government",
   "metadata": {},
   "source": [
    "\\D => check not contain single digit<br>\n",
    "\\W => check not contain word <br>\n",
    "\\S => check not contain white space"
   ]
  },
  {
   "cell_type": "markdown",
   "id": "killing-thirty",
   "metadata": {},
   "source": [
    "<b>14. What is the difference between .&#42;? and .&#42;?</b>"
   ]
  },
  {
   "cell_type": "code",
   "execution_count": 39,
   "id": "electronic-syndication",
   "metadata": {},
   "outputs": [
    {
     "data": {
      "text/plain": [
       "['H', 'H']"
      ]
     },
     "execution_count": 39,
     "metadata": {},
     "output_type": "execute_result"
    }
   ],
   "source": [
    "import re\n",
    "txt = \"Hiiiii Hi how are you\"\n",
    "x = re.findall(\"H.*?\", txt)\n",
    "x"
   ]
  },
  {
   "cell_type": "markdown",
   "id": "connected-finish",
   "metadata": {},
   "source": [
    ". will match 1 coocuurance except new line, * will match 0 or any coocuurance, .* matches zero or any number of coocuurance, <b>.*? matches 0 or 1 coocuurance</b> "
   ]
  },
  {
   "cell_type": "markdown",
   "id": "gentle-albert",
   "metadata": {},
   "source": [
    "<b>15. What is the syntax for matching both numbers and lowercase letters with a character class?</b>"
   ]
  },
  {
   "cell_type": "markdown",
   "id": "found-soundtrack",
   "metadata": {},
   "source": [
    "[0-9a-z]"
   ]
  },
  {
   "cell_type": "markdown",
   "id": "laughing-gothic",
   "metadata": {},
   "source": [
    "<b>16. What is the procedure for making a normal expression in regax case insensitive?</b>"
   ]
  },
  {
   "cell_type": "code",
   "execution_count": 30,
   "id": "congressional-windows",
   "metadata": {},
   "outputs": [
    {
     "data": {
      "text/plain": [
       "['HI']"
      ]
     },
     "execution_count": 30,
     "metadata": {},
     "output_type": "execute_result"
    }
   ],
   "source": [
    "import re\n",
    "pattern1 = re.compile(\"hi\",re.I)\n",
    "test = \"HI, HOW ARE YOU?\"\n",
    "pattern1.findall(test)"
   ]
  },
  {
   "cell_type": "markdown",
   "id": "abandoned-somalia",
   "metadata": {},
   "source": [
    "<b>17. What does the . character normally match? What does it match if re.DOTALL is passed as 2nd\n",
    "argument in re.compile()?</b>"
   ]
  },
  {
   "cell_type": "markdown",
   "id": "false-tomorrow",
   "metadata": {},
   "source": [
    ". character match 0 or 1 coocuureance in same line <br>\n",
    "re.DOTALL is passed as 2nd argument in re.compile() match 0 or 1 coocuureance in all lines"
   ]
  },
  {
   "cell_type": "markdown",
   "id": "wooden-parish",
   "metadata": {},
   "source": [
    "<b> 18. If numReg = re.compile(r&#39;\\d+&#39;), what will numRegex.sub(&#39;X&#39;, &#39;11 drummers, 10 pipers, five rings, 4\n",
    "hen&#39;) return? </b>"
   ]
  },
  {
   "cell_type": "markdown",
   "id": "seasonal-theme",
   "metadata": {},
   "source": [
    "'X drummers, X pipers, five rings, X hen'"
   ]
  },
  {
   "cell_type": "markdown",
   "id": "becoming-seeking",
   "metadata": {},
   "source": [
    "<b> 19. What does passing re.VERBOSE as the 2nd argument to re.compile() allow to do? </b>"
   ]
  },
  {
   "cell_type": "markdown",
   "id": "behind-omaha",
   "metadata": {},
   "source": [
    "re.VERBOSE : This flag allows you to write regular expressions that look nicer and are more readable by allowing you to visually separate logical sections of the pattern and add comments."
   ]
  },
  {
   "cell_type": "markdown",
   "id": "opposed-jimmy",
   "metadata": {},
   "source": [
    "<b>20. How would you write a regex that match a number with comma for every three digits? It must\n",
    "match the given following:\n",
    "<br>&#39;42&#39;\n",
    "<br>&#39;1,234&#39;\n",
    "<br>&#39;6,368,745&#39;\n",
    "<br>\n",
    "<br>but not the following:<br>\n",
    "<br>&#39;12,34,567&#39; (which has only two digits between the commas)\n",
    "<br>&#39;1234&#39; (which lacks commas)</b>"
   ]
  },
  {
   "cell_type": "code",
   "execution_count": 179,
   "id": "failing-outside",
   "metadata": {},
   "outputs": [
    {
     "name": "stdout",
     "output_type": "stream",
     "text": [
      "['42']\n",
      "[',234']\n",
      "[',386', ',745']\n",
      "[',567']\n",
      "[]\n"
     ]
    }
   ],
   "source": [
    "import re\n",
    "txt1 = '42'\n",
    "x1 = re.findall(\"^[0-9][0-9]$|,[0-9][0-9][0-9]\", txt1)\n",
    "\n",
    "txt2 = '1,234'\n",
    "x2 = re.findall(\"^[0-9][0-9]$|,[0-9][0-9][0-9]\", txt2)\n",
    "\n",
    "txt3 = '6,386,745'\n",
    "x3 = re.findall(\"^[0-9][0-9]$|,[0-9][0-9][0-9]\", txt3)\n",
    "\n",
    "txt4 = '12,34,567'\n",
    "x4 = re.findall(\"^[0-9][0-9]$|,[0-9][0-9][0-9]\", txt4)\n",
    "\n",
    "txt5 = '1234'\n",
    "x5 = re.findall(\"^[0-9][0-9]$|,[0-9][0-9][0-9]\", txt5)\n",
    "\n",
    "print (x1)\n",
    "print (x2)\n",
    "print (x3)\n",
    "print (x4)\n",
    "print (x5)"
   ]
  },
  {
   "cell_type": "markdown",
   "id": "bigger-drill",
   "metadata": {},
   "source": [
    "<b> 21. How would you write a regex that matches the full name of someone whose last name is\n",
    "Watanabe? You can assume that the first name that comes before it will always be one word that\n",
    "begins with a capital letter. The regex must match the following: <br>\n",
    "<br>&#39;Haruto Watanabe&#39;\n",
    "<br>&#39;Alice Watanabe&#39;\n",
    "<br>&#39;RoboCop Watanabe&#39;\n",
    "<br><br>but not the following:<br>\n",
    "<br>&#39;haruto Watanabe&#39; (where the first name is not capitalized)\n",
    "<br>&#39;Mr. Watanabe&#39; (where the preceding word has a nonletter character)\n",
    "<br>&#39;Watanabe&#39; (which has no first name)\n",
    "<br>&#39;Haruto watanabe&#39; (where Watanabe is not capitalized)</b>"
   ]
  },
  {
   "cell_type": "code",
   "execution_count": 188,
   "id": "liable-brave",
   "metadata": {},
   "outputs": [
    {
     "name": "stdout",
     "output_type": "stream",
     "text": [
      "['Haruto Watanabe']\n",
      "['Alice Watanabe']\n",
      "['Cop Watanabe']\n",
      "[]\n",
      "[]\n",
      "[]\n",
      "[]\n"
     ]
    }
   ],
   "source": [
    "import re\n",
    "\n",
    "txt = 'Haruto Watanabe'\n",
    "x = re.findall('[A-Z][a-z]*\\sWatanabe', txt)\n",
    "\n",
    "txt1 = 'Alice Watanabe'\n",
    "x1 = re.findall('[A-Z][a-z]*\\sWatanabe', txt1)\n",
    "\n",
    "txt2 = 'RoboCop Watanabe'\n",
    "x2 = re.findall('[A-Z][a-z]*\\sWatanabe', txt2)\n",
    "\n",
    "txt3 = 'haruto Watanabe'\n",
    "x3 = re.findall('[A-Z][a-z]*\\sWatanabe', txt3)\n",
    "               \n",
    "txt4 = 'Mr. Watanabe'\n",
    "x4 = re.findall('[A-Z][a-z]*\\sWatanabe', txt4)\n",
    "\n",
    "txt5 = 'Watanabe'\n",
    "x5 = re.findall('[A-Z][a-z]*\\sWatanabe', txt5)\n",
    "\n",
    "txt6 = 'Haruto watanabe'\n",
    "x6 = re.findall('[A-Z][a-z]*\\sWatanabe', txt6)\n",
    "               \n",
    "print (x)\n",
    "print (x1)\n",
    "print (x2)\n",
    "print (x3)\n",
    "print (x4)\n",
    "print (x5)\n",
    "print (x6)"
   ]
  },
  {
   "cell_type": "markdown",
   "id": "distant-birmingham",
   "metadata": {},
   "source": [
    "<b>22. How would you write a regex that matches a sentence where the first word is either Alice, Bob,\n",
    "or Carol; the second word is either eats, pets, or throws; the third word is apples, cats, or baseballs;\n",
    "and the sentence ends with a period? This regex should be case-insensitive. It must match the\n",
    "following:<br>\n",
    "<br>&#39;Alice eats apples.&#39;\n",
    "<br>&#39;Bob pets cats.&#39;\n",
    "<br>&#39;Carol throws baseballs.&#39;\n",
    "<br>&#39;Alice throws Apples.&#39;\n",
    "<br>&#39;BOB EATS CATS.&#39;\n",
    "<br><br>but not the following:\n",
    "<br><br>&#39;RoboCop eats apples.&#39;\n",
    "<br>&#39;ALICE THROWS FOOTBALLS.&#39;\n",
    "<br>&#39;Carol eats 7 cats.&#39;</b>"
   ]
  },
  {
   "cell_type": "code",
   "execution_count": 199,
   "id": "resistant-heating",
   "metadata": {},
   "outputs": [
    {
     "name": "stdout",
     "output_type": "stream",
     "text": [
      "[('Alice', 'eats', 'apples')]\n",
      "[('Bob', 'pets', 'cats')]\n",
      "[('Carol', 'throws', 'baseballs')]\n",
      "[('Alice', 'throws', 'Apples')]\n",
      "[('BOB', 'EATS', 'CATS')]\n",
      "[]\n",
      "[]\n",
      "[]\n"
     ]
    }
   ],
   "source": [
    "import re\n",
    "match1 = re.compile('(Alice|Bob|Carol)\\s(eats|pets|throws)\\s(apples|cats|baseballs)\\.', re.IGNORECASE)\n",
    "\n",
    "x = match1.findall('Alice eats apples.')\n",
    "x1 = match1.findall('Bob pets cats.')\n",
    "x2 = match1.findall('Carol throws baseballs.')\n",
    "x3 = match1.findall('Alice throws Apples.')\n",
    "x4 = match1.findall('BOB EATS CATS.')\n",
    "x5 = match1.findall('RoboCop eats apples.')\n",
    "x6 = match1.findall('ALICE THROWS FOOTBALLS.')\n",
    "x7 = match1.findall('Carol eats 7 cats.')\n",
    "\n",
    "print (x)\n",
    "print (x1)\n",
    "print (x2)\n",
    "print (x3)\n",
    "print (x4)\n",
    "print (x5)\n",
    "print (x6)\n",
    "print (x7)\n"
   ]
  },
  {
   "cell_type": "code",
   "execution_count": null,
   "id": "patient-tract",
   "metadata": {},
   "outputs": [],
   "source": []
  }
 ],
 "metadata": {
  "kernelspec": {
   "display_name": "Python 3",
   "language": "python",
   "name": "python3"
  },
  "language_info": {
   "codemirror_mode": {
    "name": "ipython",
    "version": 3
   },
   "file_extension": ".py",
   "mimetype": "text/x-python",
   "name": "python",
   "nbconvert_exporter": "python",
   "pygments_lexer": "ipython3",
   "version": "3.6.13"
  }
 },
 "nbformat": 4,
 "nbformat_minor": 5
}
