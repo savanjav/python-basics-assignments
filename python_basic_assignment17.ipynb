{
 "cells": [
  {
   "cell_type": "markdown",
   "id": "12c09f30",
   "metadata": {},
   "source": [
    "<b>1. Assign the value 7 to the variable guess_me. Then, write the conditional tests (if, else, and elif) to\n",
    "print the string &#39;too low&#39; if guess_me is less than 7, &#39;too high&#39; if greater than 7, and &#39;just right&#39; if equal\n",
    "to 7.</b>"
   ]
  },
  {
   "cell_type": "code",
   "execution_count": 7,
   "id": "47628031",
   "metadata": {},
   "outputs": [
    {
     "name": "stdout",
     "output_type": "stream",
     "text": [
      "just right\n"
     ]
    }
   ],
   "source": [
    "guess_me = 7\n",
    "if guess_me>7:\n",
    "    print('too high')\n",
    "elif guess_me<7:\n",
    "    print('too low')\n",
    "else:\n",
    "    print('just right')"
   ]
  },
  {
   "cell_type": "markdown",
   "id": "6d75b043",
   "metadata": {},
   "source": [
    "<b>2. Assign the value 7 to the variable guess_me and the value 1 to the variable start. Write a while\n",
    "loop that compares start with guess_me. Print too low if start is less than guess me. If start equals\n",
    "guess_me, print &#39;found it!&#39; and exit the loop. If start is greater than guess_me, print &#39;oops&#39; and exit\n",
    "the loop. Increment start at the end of the loop.</b>"
   ]
  },
  {
   "cell_type": "code",
   "execution_count": 5,
   "id": "86de98e2",
   "metadata": {},
   "outputs": [
    {
     "name": "stdout",
     "output_type": "stream",
     "text": [
      "too low\n",
      "too low\n",
      "too low\n",
      "too low\n",
      "too low\n",
      "too low\n",
      "found it!\n"
     ]
    }
   ],
   "source": [
    "guess_me = 7\n",
    "start = 1\n",
    "\n",
    "while start<=guess_me:\n",
    "    if(start<guess_me):\n",
    "        print('too low')\n",
    "    else:\n",
    "        print('found it!')\n",
    "    start = start + 1"
   ]
  },
  {
   "cell_type": "markdown",
   "id": "1aeef037",
   "metadata": {},
   "source": [
    "<b>3. Print the following values of the list [3, 2, 1, 0] using a for loop.</b>"
   ]
  },
  {
   "cell_type": "code",
   "execution_count": 2,
   "id": "8de2a416",
   "metadata": {},
   "outputs": [
    {
     "name": "stdout",
     "output_type": "stream",
     "text": [
      "3\n",
      "2\n",
      "1\n",
      "0\n"
     ]
    },
    {
     "data": {
      "text/plain": [
       "[None, None, None, None]"
      ]
     },
     "execution_count": 2,
     "metadata": {},
     "output_type": "execute_result"
    }
   ],
   "source": [
    "list = [3,2,1,0]\n",
    "[print(i) for i in list]"
   ]
  },
  {
   "cell_type": "markdown",
   "id": "adc576db",
   "metadata": {},
   "source": [
    "<b>4. Use a list comprehension to make a list of the even numbers in range(10)</b>"
   ]
  },
  {
   "cell_type": "code",
   "execution_count": 4,
   "id": "51f102e7",
   "metadata": {},
   "outputs": [
    {
     "data": {
      "text/plain": [
       "[0, 2, 4, 6, 8]"
      ]
     },
     "execution_count": 4,
     "metadata": {},
     "output_type": "execute_result"
    }
   ],
   "source": [
    "[i for i in range(10) if i%2 == 0]"
   ]
  },
  {
   "cell_type": "markdown",
   "id": "21ba7f78",
   "metadata": {},
   "source": [
    "<b>5. Use a dictionary comprehension to create the dictionary squares. Use range(10) to return the\n",
    "keys, and use the square of each key as its value.</b>"
   ]
  },
  {
   "cell_type": "code",
   "execution_count": 7,
   "id": "e236a454",
   "metadata": {},
   "outputs": [
    {
     "data": {
      "text/plain": [
       "{0: 0, 1: 1, 2: 4, 3: 9, 4: 16, 5: 25, 6: 36, 7: 49, 8: 64, 9: 81}"
      ]
     },
     "execution_count": 7,
     "metadata": {},
     "output_type": "execute_result"
    }
   ],
   "source": [
    "myDict = {x: x**2 for x in range(10)}\n",
    "myDict"
   ]
  },
  {
   "cell_type": "markdown",
   "id": "5a15a86e",
   "metadata": {},
   "source": [
    "<b>6. Construct the set odd from the odd numbers in the range using a set comprehension (10).</b>"
   ]
  },
  {
   "cell_type": "code",
   "execution_count": 12,
   "id": "f798922d",
   "metadata": {},
   "outputs": [
    {
     "data": {
      "text/plain": [
       "{1, 3, 5, 7, 9}"
      ]
     },
     "execution_count": 12,
     "metadata": {},
     "output_type": "execute_result"
    }
   ],
   "source": [
    "newSet = {i for i in range(10) if i%2 != 0}\n",
    "newSet"
   ]
  },
  {
   "cell_type": "markdown",
   "id": "55bfa1a5",
   "metadata": {},
   "source": [
    "<b>7. Use a generator comprehension to return the string &#39;Got &#39; and a number for the numbers in\n",
    "range(10). Iterate through this by using a for loop.</b>"
   ]
  },
  {
   "cell_type": "code",
   "execution_count": 44,
   "id": "b2a411ba",
   "metadata": {},
   "outputs": [
    {
     "name": "stdout",
     "output_type": "stream",
     "text": [
      "Got\n",
      "0\n",
      "1\n",
      "2\n",
      "3\n",
      "4\n",
      "5\n",
      "6\n",
      "7\n",
      "8\n",
      "9\n"
     ]
    }
   ],
   "source": [
    "# String generator\n",
    "string_gen = (i for i in ['G','o','t'])\n",
    "tmp = ''\n",
    "for i in string_gen:\n",
    "    tmp = tmp + i\n",
    "print (tmp)\n",
    "\n",
    "#Number generator\n",
    "num_gen = (i for i in range(10))\n",
    "for i in num_gen:\n",
    "    print (i)\n"
   ]
  },
  {
   "cell_type": "markdown",
   "id": "ec455423",
   "metadata": {},
   "source": [
    "<b>8. Define a function called good that returns the list [&#39;Harry&#39;, &#39;Ron&#39;, &#39;Hermione&#39;].</b>"
   ]
  },
  {
   "cell_type": "code",
   "execution_count": 47,
   "id": "d9ec11cf",
   "metadata": {},
   "outputs": [
    {
     "data": {
      "text/plain": [
       "['Harry', 'Ron', 'Hermione']"
      ]
     },
     "execution_count": 47,
     "metadata": {},
     "output_type": "execute_result"
    }
   ],
   "source": [
    "def good():\n",
    "    return ['Harry', 'Ron', 'Hermione']\n",
    "good()"
   ]
  },
  {
   "cell_type": "markdown",
   "id": "b5c68c28",
   "metadata": {},
   "source": [
    "<b>9. Define a generator function called get_odds that returns the odd numbers from range(10). Use a\n",
    "for loop to find and print the third value returned.</b>"
   ]
  },
  {
   "cell_type": "code",
   "execution_count": 11,
   "id": "ddd80ab5",
   "metadata": {},
   "outputs": [
    {
     "name": "stdout",
     "output_type": "stream",
     "text": [
      "5\n"
     ]
    }
   ],
   "source": [
    "odd_gen = (i for i in range(10) if i%2 != 0 )\n",
    "count = 1\n",
    "for i in odd_gen:\n",
    "    if count % 3 == 0:\n",
    "        print (i)\n",
    "    count=count+1"
   ]
  },
  {
   "cell_type": "markdown",
   "id": "3c3b5730",
   "metadata": {},
   "source": [
    "<b>10. Define an exception called OopsException. Raise this exception to see what happens. Then write\n",
    "the code to catch this exception and print &#39;Caught an oops&#39;.</b>"
   ]
  },
  {
   "cell_type": "code",
   "execution_count": null,
   "id": "a2dca033",
   "metadata": {},
   "outputs": [],
   "source": []
  },
  {
   "cell_type": "markdown",
   "id": "dfe97dbf",
   "metadata": {},
   "source": [
    "<b>11. Use zip() to make a dictionary called movies that pairs these lists: titles = [&#39;Creature of Habit&#39;,\n",
    "&#39;Crewel Fate&#39;] and plots = [&#39;A nun turns into a monster&#39;, &#39;A haunted yarn shop&#39;].</b>"
   ]
  },
  {
   "cell_type": "code",
   "execution_count": 18,
   "id": "0ad87de2",
   "metadata": {},
   "outputs": [
    {
     "name": "stdout",
     "output_type": "stream",
     "text": [
      "{('Creature of Habit', 'A nun turns into a monster'), ('Crewel Fate', 'A haunted yarn shop')}\n"
     ]
    }
   ],
   "source": [
    "titles = ['Creature of Habit', 'Crewel Fate']\n",
    "plots = ['A nun turns into a monster', 'A haunted yarn shop']\n",
    "mapped = zip(titles, plots)\n",
    "print (set(mapped))"
   ]
  },
  {
   "cell_type": "code",
   "execution_count": null,
   "id": "2cb87dd6",
   "metadata": {},
   "outputs": [],
   "source": []
  }
 ],
 "metadata": {
  "kernelspec": {
   "display_name": "Python 3 (ipykernel)",
   "language": "python",
   "name": "python3"
  },
  "language_info": {
   "codemirror_mode": {
    "name": "ipython",
    "version": 3
   },
   "file_extension": ".py",
   "mimetype": "text/x-python",
   "name": "python",
   "nbconvert_exporter": "python",
   "pygments_lexer": "ipython3",
   "version": "3.8.10"
  }
 },
 "nbformat": 4,
 "nbformat_minor": 5
}
