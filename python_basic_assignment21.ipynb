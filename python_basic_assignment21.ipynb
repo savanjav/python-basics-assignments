{
 "cells": [
  {
   "cell_type": "markdown",
   "id": "17e086cd",
   "metadata": {},
   "source": [
    "<b>1. Add the current date to the text file today.txt as a string.</b>"
   ]
  },
  {
   "cell_type": "code",
   "execution_count": 8,
   "id": "24782a3a",
   "metadata": {},
   "outputs": [],
   "source": [
    "import datetime\n",
    "import os.path\n",
    "\n",
    "fname = \"today.txt\"\n",
    "x = datetime.datetime.now()\n",
    "if os.path.isfile(fname):\n",
    "    f = open(fname, \"w\")\n",
    "else:\n",
    "    f = open(fname, \"x\")\n",
    "f.write(str(x))\n",
    "f.close()\n"
   ]
  },
  {
   "cell_type": "markdown",
   "id": "8bb74028",
   "metadata": {},
   "source": [
    "<b>2. Read the text file today.txt into the string today_string</b>"
   ]
  },
  {
   "cell_type": "code",
   "execution_count": 11,
   "id": "ee21a0ec",
   "metadata": {},
   "outputs": [
    {
     "name": "stdout",
     "output_type": "stream",
     "text": [
      "2022-04-23 11:17:02.809439\n"
     ]
    }
   ],
   "source": [
    "f = open(fname, \"r\")\n",
    "today_string = f.read()\n",
    "f.close()\n",
    "print (today_string)"
   ]
  },
  {
   "cell_type": "markdown",
   "id": "4cd88f31",
   "metadata": {},
   "source": [
    "<b>3. Parse the date from today_string.</b>"
   ]
  },
  {
   "cell_type": "code",
   "execution_count": 14,
   "id": "7f813dd8",
   "metadata": {},
   "outputs": [
    {
     "data": {
      "text/plain": [
       "datetime.datetime(2022, 4, 23, 11, 17, 2, 809439)"
      ]
     },
     "execution_count": 14,
     "metadata": {},
     "output_type": "execute_result"
    }
   ],
   "source": [
    "from dateutil.parser import parse\n",
    "dt = parse(today_string)\n",
    "dt"
   ]
  },
  {
   "cell_type": "markdown",
   "id": "a9f32e54",
   "metadata": {},
   "source": [
    "<b>4. List the files in your current directory</b>"
   ]
  },
  {
   "cell_type": "code",
   "execution_count": 16,
   "id": "8fc6ea09",
   "metadata": {},
   "outputs": [
    {
     "data": {
      "text/plain": [
       "['.ipynb_checkpoints',\n",
       " 'book.csv',\n",
       " 'logo.png',\n",
       " 'myfile.txt',\n",
       " 'python_basic_assignment13.ipynb',\n",
       " 'python_basic_assignment14.ipynb',\n",
       " 'python_basic_assignment16.ipynb',\n",
       " 'python_basic_assignment17.ipynb',\n",
       " 'python_basic_assignment18.ipynb',\n",
       " 'python_basic_assignment19.ipynb',\n",
       " 'python_basic_assignment20.ipynb',\n",
       " 'python_basic_assignment21.ipynb',\n",
       " 'test.txt',\n",
       " 'today.txt']"
      ]
     },
     "execution_count": 16,
     "metadata": {},
     "output_type": "execute_result"
    }
   ],
   "source": [
    "files = os.listdir(os.curdir)\n",
    "files"
   ]
  },
  {
   "cell_type": "markdown",
   "id": "c5cf0941",
   "metadata": {},
   "source": [
    "<b>5. Create a list of all of the files in your parent directory (minimum five files should be available).</b>"
   ]
  },
  {
   "cell_type": "code",
   "execution_count": 45,
   "id": "16b9e576",
   "metadata": {},
   "outputs": [
    {
     "data": {
      "text/plain": [
       "['.android',\n",
       " '.AndroidStudio',\n",
       " '.bash_history',\n",
       " '.cassandra',\n",
       " '.conda',\n",
       " '.condarc',\n",
       " '.config',\n",
       " '.continuum',\n",
       " '.cordova',\n",
       " '.eclipse',\n",
       " '.gitconfig',\n",
       " '.gradle',\n",
       " '.ipynb_checkpoints',\n",
       " '.ipython',\n",
       " '.jupyter',\n",
       " '.matplotlib',\n",
       " '.p2',\n",
       " '.python_history',\n",
       " '.tooling',\n",
       " '3D Objects',\n",
       " 'Admission_Predict.csv',\n",
       " 'Admission_Predict_Ver1.1.csv',\n",
       " 'Advertising.csv',\n",
       " 'ansel',\n",
       " 'AppData',\n",
       " 'Application Data',\n",
       " 'atspisekey.keystore',\n",
       " 'Book Recommendation System',\n",
       " 'cassandra.ipynb',\n",
       " 'Contacts',\n",
       " 'Cookies',\n",
       " 'Desktop',\n",
       " 'Documents',\n",
       " 'Downloads',\n",
       " 'Favorites',\n",
       " 'GStore Customer Revenue Predection - ML',\n",
       " 'INEURON NOTES',\n",
       " 'IntelGraphicsProfiles',\n",
       " 'key.keystore',\n",
       " 'Links',\n",
       " 'Local Settings',\n",
       " 'Logistics regression implementation.ipynb',\n",
       " 'MicrosoftEdgeBackups',\n",
       " 'ML .ipynb',\n",
       " 'ML_EXPERIMENT.ipynb',\n",
       " 'Music',\n",
       " 'My Documents',\n",
       " 'NetHood',\n",
       " 'NTUSER.DAT',\n",
       " 'ntuser.dat.LOG1',\n",
       " 'ntuser.dat.LOG2',\n",
       " 'NTUSER.DAT{8d44e33b-f89b-11e9-947d-801c009a330a}.TM.blf',\n",
       " 'NTUSER.DAT{8d44e33b-f89b-11e9-947d-801c009a330a}.TMContainer00000000000000000001.regtrans-ms',\n",
       " 'NTUSER.DAT{8d44e33b-f89b-11e9-947d-801c009a330a}.TMContainer00000000000000000002.regtrans-ms',\n",
       " 'ntuser.ini',\n",
       " 'ntuser.pol',\n",
       " 'OneDrive',\n",
       " 'oops 2.ipynb',\n",
       " 'Pictures',\n",
       " 'polynomial linear regression.ipynb',\n",
       " 'Postman',\n",
       " 'PrintHood',\n",
       " 'PYTHON BASIC ASSIGNMENTS',\n",
       " 'python_basic_assignment1.ipynb',\n",
       " 'python_basic_assignment2 - Copy.ipynb',\n",
       " 'python_basic_assignment2.ipynb',\n",
       " 'python_tutorial.ipynb',\n",
       " 'Recent',\n",
       " 'release.keystore',\n",
       " 'Roaming',\n",
       " 'Saved Games',\n",
       " 'Searches',\n",
       " 'SendTo',\n",
       " 'SKLEARN - LINEAR REGRESSION.ipynb',\n",
       " 'SKLEARN REGULARIZATION.ipynb',\n",
       " 'Start Menu',\n",
       " 'Templates',\n",
       " 'test.csv',\n",
       " 'Tracing',\n",
       " 'Untitled.ipynb',\n",
       " 'Untitled1.ipynb',\n",
       " 'Untitled10.ipynb',\n",
       " 'Untitled11.ipynb',\n",
       " 'Untitled12.ipynb',\n",
       " 'Untitled13.ipynb',\n",
       " 'Untitled14.ipynb',\n",
       " 'Untitled15.ipynb',\n",
       " 'Untitled16.ipynb',\n",
       " 'Untitled17.ipynb',\n",
       " 'Untitled18.ipynb',\n",
       " 'Untitled19.ipynb',\n",
       " 'Untitled2.ipynb',\n",
       " 'Untitled20.ipynb',\n",
       " 'Untitled21.ipynb',\n",
       " 'Untitled22.ipynb',\n",
       " 'Untitled23.ipynb',\n",
       " 'Untitled24.ipynb',\n",
       " 'Untitled25.ipynb',\n",
       " 'Untitled26.ipynb',\n",
       " 'Untitled27.ipynb',\n",
       " 'Untitled28.ipynb',\n",
       " 'Untitled29.ipynb',\n",
       " 'Untitled3.ipynb',\n",
       " 'Untitled30.ipynb',\n",
       " 'Untitled31.ipynb',\n",
       " 'Untitled32.ipynb',\n",
       " 'Untitled33.ipynb',\n",
       " 'Untitled34.ipynb',\n",
       " 'Untitled35.ipynb',\n",
       " 'Untitled36.ipynb',\n",
       " 'Untitled37.ipynb',\n",
       " 'Untitled38.ipynb',\n",
       " 'Untitled39.ipynb',\n",
       " 'Untitled4.ipynb',\n",
       " 'Untitled40.ipynb',\n",
       " 'Untitled41.ipynb',\n",
       " 'Untitled42.ipynb',\n",
       " 'Untitled43.ipynb',\n",
       " 'Untitled44.ipynb',\n",
       " 'Untitled45.ipynb',\n",
       " 'Untitled46.ipynb',\n",
       " 'Untitled5.ipynb',\n",
       " 'Untitled6.ipynb',\n",
       " 'Untitled7.ipynb',\n",
       " 'Untitled8.ipynb',\n",
       " 'Untitled9.ipynb',\n",
       " 'Videos',\n",
       " '_netrc']"
      ]
     },
     "execution_count": 45,
     "metadata": {},
     "output_type": "execute_result"
    }
   ],
   "source": [
    "#from pathlib import Path\n",
    "import pathlib\n",
    "path = pathlib.Path().resolve().parent\n",
    "os.listdir(path)"
   ]
  },
  {
   "cell_type": "markdown",
   "id": "a0d5c3a2",
   "metadata": {},
   "source": [
    "<b>6. Use multiprocessing to create three separate processes. Make each one wait a random number of\n",
    "seconds between one and five, print the current time, and then exit.</b>"
   ]
  },
  {
   "cell_type": "code",
   "execution_count": 60,
   "id": "898ef232",
   "metadata": {},
   "outputs": [
    {
     "name": "stdout",
     "output_type": "stream",
     "text": [
      "2022-04-23 12:06:32.086397\n",
      "2022-04-23 12:06:32.086972\n",
      "2022-04-23 12:06:32.087362\n",
      "Done!\n"
     ]
    }
   ],
   "source": [
    "import multiprocessing\n",
    "def print_date():\n",
    "    print(datetime.datetime.now())\n",
    "  \n",
    "def print_date1():\n",
    "    print(datetime.datetime.now())\n",
    "\n",
    "def print_date2():\n",
    "    print(datetime.datetime.now())\n",
    "\n",
    "p1 = multiprocessing.Process(target=print_date(), args=(1, ))\n",
    "p2 = multiprocessing.Process(target=print_date1(), args=(1, ))\n",
    "p3 = multiprocessing.Process(target=print_date2(), args=(1, ))\n",
    "\n",
    "# starting process 1\n",
    "p1.start()\n",
    "# starting process 2\n",
    "p2.start()\n",
    "# starting process 3\n",
    "p3.start()\n",
    "\n",
    "# wait until process 1 is finished\n",
    "p1.join()\n",
    "# wait until process 2 is finished\n",
    "p2.join()\n",
    "# wait until process 3 is finished\n",
    "p3.join()\n",
    "\n",
    "# both processes finished\n",
    "print(\"Done!\")"
   ]
  },
  {
   "cell_type": "markdown",
   "id": "cd5bee19",
   "metadata": {},
   "source": [
    "<b>7. Create a date object of your day of birth.</b>"
   ]
  },
  {
   "cell_type": "code",
   "execution_count": 62,
   "id": "e4ae93db",
   "metadata": {},
   "outputs": [
    {
     "name": "stdout",
     "output_type": "stream",
     "text": [
      "1993-06-10 00:00:00\n"
     ]
    }
   ],
   "source": [
    "x = datetime.datetime(1993, 6, 10)\n",
    "print (x)"
   ]
  },
  {
   "cell_type": "markdown",
   "id": "8af1fdf7",
   "metadata": {},
   "source": [
    "<b>8. What day of the week was your day of birth?</b>"
   ]
  },
  {
   "cell_type": "code",
   "execution_count": 64,
   "id": "5e589970",
   "metadata": {},
   "outputs": [
    {
     "data": {
      "text/plain": [
       "3"
      ]
     },
     "execution_count": 64,
     "metadata": {},
     "output_type": "execute_result"
    }
   ],
   "source": [
    "x.weekday()"
   ]
  },
  {
   "cell_type": "markdown",
   "id": "6a26b480",
   "metadata": {},
   "source": [
    "<b>9. When will you be (or when were you) 10,000 days old?</b>"
   ]
  },
  {
   "cell_type": "code",
   "execution_count": 66,
   "id": "482340a9",
   "metadata": {},
   "outputs": [
    {
     "name": "stdout",
     "output_type": "stream",
     "text": [
      "2020-10-26 00:00:00\n"
     ]
    }
   ],
   "source": [
    "y = x + datetime.timedelta(days=10000)\n",
    "print (y)"
   ]
  },
  {
   "cell_type": "code",
   "execution_count": null,
   "id": "dc5a6266",
   "metadata": {},
   "outputs": [],
   "source": []
  }
 ],
 "metadata": {
  "kernelspec": {
   "display_name": "Python 3 (ipykernel)",
   "language": "python",
   "name": "python3"
  },
  "language_info": {
   "codemirror_mode": {
    "name": "ipython",
    "version": 3
   },
   "file_extension": ".py",
   "mimetype": "text/x-python",
   "name": "python",
   "nbconvert_exporter": "python",
   "pygments_lexer": "ipython3",
   "version": "3.8.10"
  }
 },
 "nbformat": 4,
 "nbformat_minor": 5
}
