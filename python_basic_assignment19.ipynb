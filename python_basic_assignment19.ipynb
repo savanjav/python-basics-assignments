{
 "cells": [
  {
   "cell_type": "markdown",
   "id": "7900515c",
   "metadata": {},
   "source": [
    "<b>1. Make a class called Thing with no contents and print it. Then, create an object called example\n",
    "from this class and also print it. Are the printed values the same or different?</b>"
   ]
  },
  {
   "cell_type": "code",
   "execution_count": 98,
   "id": "2473ee55",
   "metadata": {},
   "outputs": [
    {
     "name": "stdout",
     "output_type": "stream",
     "text": [
      "<class '__main__.Thing'>\n",
      "<__main__.Thing object at 0x000001BB3D1C7AF0>\n"
     ]
    }
   ],
   "source": [
    "class Thing:\n",
    "    pass\n",
    "\n",
    "thing = Thing()\n",
    "print(Thing)\n",
    "print(thing)\n",
    "    "
   ]
  },
  {
   "cell_type": "markdown",
   "id": "bc1dd1a2",
   "metadata": {},
   "source": [
    "<b>2. Create a new class called Thing2 and add the value &#39;abc&#39; to the letters class attribute. Letters\n",
    "should be printed.</b>"
   ]
  },
  {
   "cell_type": "code",
   "execution_count": 99,
   "id": "2ec1b687",
   "metadata": {},
   "outputs": [
    {
     "name": "stdout",
     "output_type": "stream",
     "text": [
      "abc\n"
     ]
    }
   ],
   "source": [
    "class Thing2:\n",
    "    def __init__(self,letter):\n",
    "        self.letter = letter\n",
    "        print (letter)\n",
    "t = Thing2('abc')"
   ]
  },
  {
   "cell_type": "markdown",
   "id": "f48f5d34",
   "metadata": {},
   "source": [
    "<b>3. Make yet another class called, of course, Thing3. This time, assign the value &#39;xyz&#39; to an instance\n",
    "(object) attribute called letters. Print letters. Do you need to make an object from the class to do\n",
    "this?</b>"
   ]
  },
  {
   "cell_type": "code",
   "execution_count": 100,
   "id": "ccb40322",
   "metadata": {},
   "outputs": [
    {
     "name": "stdout",
     "output_type": "stream",
     "text": [
      "xyz\n"
     ]
    }
   ],
   "source": [
    "class Thing3:\n",
    "    letter = 'xyz'\n",
    "    \n",
    "    def display(self):\n",
    "        print (self.letter)\n",
    "\n",
    "t = Thing3()\n",
    "t.display()\n",
    "\n",
    "# static method not works, need to create object"
   ]
  },
  {
   "cell_type": "markdown",
   "id": "d2089370",
   "metadata": {},
   "source": [
    "<b>4. Create an Element class with the instance attributes name, symbol, and number. Create a class\n",
    "object with the values &#39;Hydrogen,&#39; &#39;H,&#39; and 1.</b>"
   ]
  },
  {
   "cell_type": "code",
   "execution_count": 101,
   "id": "2642bb8e",
   "metadata": {},
   "outputs": [],
   "source": [
    "class Element:\n",
    "    \n",
    "    def __init__(self,name,symbol,number):\n",
    "        self.name = name\n",
    "        self.symbol = symbol\n",
    "        self.number = number\n",
    "\n",
    "    def dump(self):\n",
    "        print(\"name = \" + self.name)\n",
    "        print(\"symbol = \" + self.symbol)\n",
    "        print(\"number = {}\".format(self.number))\n",
    "        \n",
    "element = Element('Hydrogen','H',1)\n"
   ]
  },
  {
   "cell_type": "markdown",
   "id": "d3879e5b",
   "metadata": {},
   "source": [
    "<b>5. Make a dictionary with these keys and values: &#39;name&#39;: &#39;Hydrogen&#39;, &#39;symbol&#39;: &#39;H&#39;, &#39;number&#39;: 1. Then,\n",
    "create an object called hydrogen from class Element using this dictionary.</b>"
   ]
  },
  {
   "cell_type": "code",
   "execution_count": 102,
   "id": "370b7428",
   "metadata": {},
   "outputs": [],
   "source": [
    "dict = {'name':'Hydrogen', 'symbol':'H', 'number':1}\n",
    "hydrogen = Element(dict['name'], dict['symbol'], dict['number'])"
   ]
  },
  {
   "cell_type": "markdown",
   "id": "5f74a5ed",
   "metadata": {},
   "source": [
    "<b>6. For the Element class, define a method called dump() that prints the values of the object’s\n",
    "attributes (name, symbol, and number). Create the hydrogen object from this new definition and\n",
    "use dump() to print its attributes.</b>"
   ]
  },
  {
   "cell_type": "code",
   "execution_count": 103,
   "id": "17c671e5",
   "metadata": {},
   "outputs": [
    {
     "name": "stdout",
     "output_type": "stream",
     "text": [
      "name = Hydrogen\n",
      "symbol = H\n",
      "number = 1\n"
     ]
    }
   ],
   "source": [
    "hydrogen.dump()"
   ]
  },
  {
   "cell_type": "markdown",
   "id": "57e1d675",
   "metadata": {},
   "source": [
    "<b>7. Call print(hydrogen). In the definition of Element, change the name of method dump to __str__,\n",
    "create a new hydrogen object, and call print(hydrogen) again.</b>"
   ]
  },
  {
   "cell_type": "code",
   "execution_count": 104,
   "id": "a21eb2b3",
   "metadata": {},
   "outputs": [
    {
     "name": "stdout",
     "output_type": "stream",
     "text": [
      "<__main__.Element object at 0x000001BB3D1A6AF0>\n"
     ]
    }
   ],
   "source": [
    "print(hydrogen)\n"
   ]
  },
  {
   "cell_type": "code",
   "execution_count": 105,
   "id": "18255e87",
   "metadata": {},
   "outputs": [
    {
     "name": "stdout",
     "output_type": "stream",
     "text": [
      "<__main__.Element object at 0x000001BB3D1C7AC0>\n"
     ]
    }
   ],
   "source": [
    "class Element:\n",
    "    \n",
    "    def __init__(self,name,symbol,number):\n",
    "        self.name = name\n",
    "        self.symbol = symbol\n",
    "        self.number = number\n",
    "\n",
    "    def str(self):\n",
    "        print(\"name = \" + self.name)\n",
    "        print(\"symbol = \" + self.symbol)\n",
    "        print(\"number = {}\".format(self.number))\n",
    "        \n",
    "hydrogen = Element('Hydrogen','H',1)\n",
    "print(hydrogen)"
   ]
  },
  {
   "cell_type": "markdown",
   "id": "2cc16fb7",
   "metadata": {},
   "source": [
    "<b>8. Modify Element to make the attributes name, symbol, and number private. Define a getter\n",
    "property for each to return its value.</b>"
   ]
  },
  {
   "cell_type": "code",
   "execution_count": 121,
   "id": "b51596be",
   "metadata": {},
   "outputs": [
    {
     "ename": "AttributeError",
     "evalue": "'Element' object has no attribute '_PrivateTest__name'",
     "output_type": "error",
     "traceback": [
      "\u001b[1;31m---------------------------------------------------------------------------\u001b[0m",
      "\u001b[1;31mAttributeError\u001b[0m                            Traceback (most recent call last)",
      "\u001b[1;32m~\\AppData\\Local\\Temp/ipykernel_2652/2354848500.py\u001b[0m in \u001b[0;36m<module>\u001b[1;34m\u001b[0m\n\u001b[0;32m     20\u001b[0m \u001b[0mhydrogen\u001b[0m \u001b[1;33m=\u001b[0m \u001b[0mElement\u001b[0m\u001b[1;33m(\u001b[0m\u001b[1;34m'Hydrogen'\u001b[0m\u001b[1;33m,\u001b[0m\u001b[1;34m'H'\u001b[0m\u001b[1;33m,\u001b[0m\u001b[1;36m1\u001b[0m\u001b[1;33m)\u001b[0m\u001b[1;33m\u001b[0m\u001b[1;33m\u001b[0m\u001b[0m\n\u001b[0;32m     21\u001b[0m \u001b[0mtest\u001b[0m \u001b[1;33m=\u001b[0m \u001b[0mPrivateTest\u001b[0m\u001b[1;33m(\u001b[0m\u001b[1;33m)\u001b[0m\u001b[1;33m\u001b[0m\u001b[1;33m\u001b[0m\u001b[0m\n\u001b[1;32m---> 22\u001b[1;33m \u001b[0mtest\u001b[0m\u001b[1;33m.\u001b[0m\u001b[0mtest\u001b[0m\u001b[1;33m(\u001b[0m\u001b[1;33m)\u001b[0m\u001b[1;33m\u001b[0m\u001b[1;33m\u001b[0m\u001b[0m\n\u001b[0m",
      "\u001b[1;32m~\\AppData\\Local\\Temp/ipykernel_2652/2354848500.py\u001b[0m in \u001b[0;36mtest\u001b[1;34m(self)\u001b[0m\n\u001b[0;32m     14\u001b[0m     \u001b[0melement\u001b[0m \u001b[1;33m=\u001b[0m \u001b[0mElement\u001b[0m\u001b[1;33m(\u001b[0m\u001b[1;34m'Hydrogen'\u001b[0m\u001b[1;33m,\u001b[0m\u001b[1;34m'H'\u001b[0m\u001b[1;33m,\u001b[0m\u001b[1;36m1\u001b[0m\u001b[1;33m)\u001b[0m\u001b[1;33m\u001b[0m\u001b[1;33m\u001b[0m\u001b[0m\n\u001b[0;32m     15\u001b[0m     \u001b[1;32mdef\u001b[0m \u001b[0mtest\u001b[0m\u001b[1;33m(\u001b[0m\u001b[0mself\u001b[0m\u001b[1;33m)\u001b[0m\u001b[1;33m:\u001b[0m\u001b[1;33m\u001b[0m\u001b[1;33m\u001b[0m\u001b[0m\n\u001b[1;32m---> 16\u001b[1;33m         \u001b[0mprint\u001b[0m \u001b[1;33m(\u001b[0m\u001b[0mself\u001b[0m\u001b[1;33m.\u001b[0m\u001b[0melement\u001b[0m\u001b[1;33m.\u001b[0m\u001b[0m__name\u001b[0m\u001b[1;33m)\u001b[0m\u001b[1;33m\u001b[0m\u001b[1;33m\u001b[0m\u001b[0m\n\u001b[0m\u001b[0;32m     17\u001b[0m \u001b[1;33m\u001b[0m\u001b[0m\n\u001b[0;32m     18\u001b[0m \u001b[1;33m\u001b[0m\u001b[0m\n",
      "\u001b[1;31mAttributeError\u001b[0m: 'Element' object has no attribute '_PrivateTest__name'"
     ]
    }
   ],
   "source": [
    "class Element:\n",
    "    \n",
    "    def __init__(self,name,symbol,number):\n",
    "        self.__name = name\n",
    "        self.__symbol = symbol\n",
    "        self.__number = number\n",
    "\n",
    "    def dump(self):\n",
    "        print(\"name = \" + self.__name)\n",
    "        print(\"symbol = \" + self.__symbol)\n",
    "        print(\"number = {}\".format(self.__number))\n",
    "\n",
    "class PrivateTest:\n",
    "    element = Element('Hydrogen','H',1)\n",
    "    def test(self):\n",
    "        print (self.element.__name)\n",
    "        \n",
    "    \n",
    "        \n",
    "hydrogen = Element('Hydrogen','H',1)\n",
    "test = PrivateTest()\n",
    "test.test()"
   ]
  },
  {
   "cell_type": "markdown",
   "id": "6e6e3130",
   "metadata": {},
   "source": [
    "<b>9. Define three classes: Bear, Rabbit, and Octothorpe. For each, define only one method: eats(). This\n",
    "should return &#39;berries&#39; (Bear), &#39;clover&#39; (Rabbit), or &#39;campers&#39; (Octothorpe). Create one object from\n",
    "each and print what it eats.</b>"
   ]
  },
  {
   "cell_type": "code",
   "execution_count": 135,
   "id": "c55bf755",
   "metadata": {},
   "outputs": [
    {
     "name": "stdout",
     "output_type": "stream",
     "text": [
      "berries\n",
      "clover\n",
      "campers\n"
     ]
    }
   ],
   "source": [
    "class Bear:\n",
    "    def eats(self):\n",
    "        return 'berries'\n",
    "\n",
    "class Rabbit:\n",
    "    def eats(self):\n",
    "        return 'clover'\n",
    "\n",
    "class Octothorpe:\n",
    "     def eats(self):\n",
    "        return 'campers'\n",
    "    \n",
    "list = []\n",
    "list.append(Bear())\n",
    "list.append(Rabbit())\n",
    "list.append(Octothorpe())\n",
    "\n",
    "for i in list:\n",
    "    print (i.eats())\n"
   ]
  },
  {
   "cell_type": "markdown",
   "id": "bd76fa83",
   "metadata": {},
   "source": [
    "<b>10. Define these classes: Laser, Claw, and SmartPhone. Each has only one method: does(). This\n",
    "returns &#39;disintegrate&#39; (Laser), &#39;crush&#39; (Claw), or &#39;ring&#39; (SmartPhone). Then, define the class Robot that\n",
    "has one instance (object) of each of these. Define a does() method for the Robot that prints what its\n",
    "component objects do.</b>"
   ]
  },
  {
   "cell_type": "code",
   "execution_count": 145,
   "id": "9c62a5a2",
   "metadata": {},
   "outputs": [
    {
     "name": "stdout",
     "output_type": "stream",
     "text": [
      "disintegrate\n",
      "crush\n",
      "ring\n"
     ]
    }
   ],
   "source": [
    "class Laser:\n",
    "    def does(self):\n",
    "        return 'disintegrate'\n",
    "    \n",
    "class Claw:\n",
    "    def does(self):\n",
    "        return 'crush'\n",
    "    \n",
    "class SmartPhone:\n",
    "    def does(self):\n",
    "        return 'ring'\n",
    "\n",
    "class Robot:\n",
    "    laser = Laser()\n",
    "    claw = Claw()\n",
    "    smartPhone = SmartPhone()\n",
    "    \n",
    "    def does(self):\n",
    "        print (self.laser.does())\n",
    "        print (self.claw.does())\n",
    "        print (self.smartPhone.does())\n",
    "\n",
    "robot = Robot()\n",
    "robot.does()"
   ]
  },
  {
   "cell_type": "code",
   "execution_count": null,
   "id": "c2e25122",
   "metadata": {},
   "outputs": [],
   "source": []
  }
 ],
 "metadata": {
  "kernelspec": {
   "display_name": "Python 3 (ipykernel)",
   "language": "python",
   "name": "python3"
  },
  "language_info": {
   "codemirror_mode": {
    "name": "ipython",
    "version": 3
   },
   "file_extension": ".py",
   "mimetype": "text/x-python",
   "name": "python",
   "nbconvert_exporter": "python",
   "pygments_lexer": "ipython3",
   "version": "3.8.10"
  }
 },
 "nbformat": 4,
 "nbformat_minor": 5
}
