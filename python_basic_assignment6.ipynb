{
 "cells": [
  {
   "cell_type": "markdown",
   "id": "broke-discretion",
   "metadata": {},
   "source": [
    "<b>1. What are escape characters, and how do you use them?</b>"
   ]
  },
  {
   "cell_type": "markdown",
   "id": "hydraulic-temperature",
   "metadata": {},
   "source": [
    "In Python strings, the backslash \"\\\" is a special character, also called the \"escape\" character. It is used in representing certain whitespace characters: \"\\t\" is a tab, \"\\n\" is a newline, and \"\\r\" is a carriage return. Conversely, prefixing a special character with \"\\\" turns it into an ordinary character."
   ]
  },
  {
   "cell_type": "markdown",
   "id": "computational-grenada",
   "metadata": {},
   "source": [
    "<b> 2. What do the escape characters n and t stand for? </b>"
   ]
  },
  {
   "cell_type": "markdown",
   "id": "educated-ambassador",
   "metadata": {},
   "source": [
    "\\n is use for new line <br>\n",
    "\\t use for make scpaces"
   ]
  },
  {
   "cell_type": "markdown",
   "id": "molecular-uzbekistan",
   "metadata": {},
   "source": [
    "<b> 3. What is the way to include backslash characters in a string? </b>"
   ]
  },
  {
   "cell_type": "code",
   "execution_count": 15,
   "id": "moral-hudson",
   "metadata": {},
   "outputs": [
    {
     "name": "stdout",
     "output_type": "stream",
     "text": [
      "Line1 \\ Line2\n"
     ]
    }
   ],
   "source": [
    "txt = \"Line1 \\\\ Line2\"\n",
    "\n",
    "print (txt)"
   ]
  },
  {
   "cell_type": "markdown",
   "id": "affecting-garden",
   "metadata": {},
   "source": [
    "<b> 4. The string &quot;Howl&#39;s Moving Castle&quot; is a correct value. Why isn&#39;t the single quote character in the\n",
    "word Howl&#39;s not escaped a problem? </b>"
   ]
  },
  {
   "cell_type": "markdown",
   "id": "compressed-backing",
   "metadata": {},
   "source": [
    "Since the string begins with a double quote, Python knows that the single quote is part of the string and not marking the end of the string. "
   ]
  },
  {
   "cell_type": "markdown",
   "id": "running-shannon",
   "metadata": {},
   "source": [
    "<b> 5. How do you write a string of newlines if you don&#39;t want to use the n character? </b>"
   ]
  },
  {
   "cell_type": "code",
   "execution_count": 19,
   "id": "restricted-arena",
   "metadata": {},
   "outputs": [
    {
     "name": "stdout",
     "output_type": "stream",
     "text": [
      "Line 1\n",
      "Line 2\n"
     ]
    }
   ],
   "source": [
    "print ('Line 1')\n",
    "print ('Line 2')"
   ]
  },
  {
   "cell_type": "markdown",
   "id": "graphic-essence",
   "metadata": {},
   "source": [
    "<b>6. What are the values of the given expressions? <pre>    \n",
    "&#39;Hello, world!&#39;[1]  => 'Hello, world!'[1]\n",
    "&#39;Hello, world!&#39;[0:5] => 'Hello'\n",
    "&#39;Hello, world!&#39;[:5] => 'Hello'\n",
    "&#39;Hello, world!&#39;[3:] => 'lo, world!'\n",
    "</pre> </b>"
   ]
  },
  {
   "cell_type": "markdown",
   "id": "polar-career",
   "metadata": {},
   "source": [
    "<b> 7. What are the values of the following expressions?<pre>\n",
    "&#39;Hello&#39;.upper() => 'HELLO'\n",
    "&#39;Hello&#39;.upper().isupper() => True\n",
    "&#39;Hello&#39;.upper().lower() => 'hello'\n",
    "</pre>"
   ]
  },
  {
   "cell_type": "markdown",
   "id": "familiar-compound",
   "metadata": {},
   "source": [
    "<b> 8. What are the values of the following expressions? <br>\n",
    "&#39;Remember, remember, the fifth of July.&#39;.split() <br>\n",
    "&#39;-&#39;.join(&#39;There can only one.&#39;.split()) </b>"
   ]
  },
  {
   "cell_type": "markdown",
   "id": "electrical-alloy",
   "metadata": {},
   "source": [
    "split will do by default split values with whitespace of string and stores in list "
   ]
  },
  {
   "cell_type": "code",
   "execution_count": 32,
   "id": "peripheral-methodology",
   "metadata": {},
   "outputs": [
    {
     "name": "stdout",
     "output_type": "stream",
     "text": [
      "['Remember,', 'remember,', 'the', 'fifth', 'of', 'July.']\n"
     ]
    }
   ],
   "source": [
    "a = 'Remember, remember, the fifth of July.'.split()\n",
    "print (a)"
   ]
  },
  {
   "cell_type": "markdown",
   "id": "public-amsterdam",
   "metadata": {},
   "source": [
    "join will take args as List and make String from that list values "
   ]
  },
  {
   "cell_type": "code",
   "execution_count": 2,
   "id": "small-contrary",
   "metadata": {},
   "outputs": [
    {
     "name": "stdout",
     "output_type": "stream",
     "text": [
      "There-can-only-one.\n",
      "['There', 'can', 'only', 'one.']\n",
      "There-can-only-one.\n"
     ]
    }
   ],
   "source": [
    "joinStr = '-'.join('There can only one.'.split())\n",
    "print (joinStr)\n",
    "\n",
    "joinList = 'There can only one.'.split()\n",
    "print(joinList)\n",
    "joinStr = '-'.join(joinList)\n",
    "print(joinStr)"
   ]
  },
  {
   "cell_type": "markdown",
   "id": "numerical-jewelry",
   "metadata": {},
   "source": [
    "<b> 9. What are the methods for right-justifying, left-justifying, and centering a string? </b>"
   ]
  },
  {
   "cell_type": "markdown",
   "id": "difficult-leather",
   "metadata": {},
   "source": [
    "String methods for respective action\n",
    "ljust()<br>\n",
    "rjust()<br>\n",
    "center()"
   ]
  },
  {
   "cell_type": "markdown",
   "id": "administrative-click",
   "metadata": {},
   "source": [
    "<b> 10. What is the best way to remove whitespace characters from the start or end? </b>"
   ]
  },
  {
   "cell_type": "code",
   "execution_count": 9,
   "id": "talented-basket",
   "metadata": {},
   "outputs": [
    {
     "name": "stdout",
     "output_type": "stream",
     "text": [
      "Hi, How Are You? Let's finish this tutorial!\n",
      " Hi, How Are You?Let's finish this tutorial!\n"
     ]
    }
   ],
   "source": [
    "str = \" Hi, How Are You? \"\n",
    "str1 = \"Let's finish this tutorial!\"\n",
    "print (str.lstrip() + str1)\n",
    "print(str.rstrip() + str1)"
   ]
  }
 ],
 "metadata": {
  "kernelspec": {
   "display_name": "Python 3",
   "language": "python",
   "name": "python3"
  },
  "language_info": {
   "codemirror_mode": {
    "name": "ipython",
    "version": 3
   },
   "file_extension": ".py",
   "mimetype": "text/x-python",
   "name": "python",
   "nbconvert_exporter": "python",
   "pygments_lexer": "ipython3",
   "version": "3.6.13"
  }
 },
 "nbformat": 4,
 "nbformat_minor": 5
}
