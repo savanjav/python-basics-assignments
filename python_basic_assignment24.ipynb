{
 "cells": [
  {
   "cell_type": "markdown",
   "id": "5b35215f",
   "metadata": {},
   "source": [
    "<b>1. What is the relationship between def statements and lambda expressions ?</b>"
   ]
  },
  {
   "cell_type": "markdown",
   "id": "b077806d",
   "metadata": {},
   "source": [
    "In python, def defined functions are commonly used because of their simplicity. The def defined functions do not return anything if not explicitly returned whereas the lambda function does return an object. "
   ]
  },
  {
   "cell_type": "markdown",
   "id": "9a22e363",
   "metadata": {},
   "source": [
    "<b>2. What is the benefit of lambda?</b>"
   ]
  },
  {
   "cell_type": "markdown",
   "id": "510db28a",
   "metadata": {},
   "source": [
    "The lambda keyword in Python provides a shortcut for declaring small anonymous functions. Lambda functions behave just like regular functions declared with the def keyword. They can be used whenever function objects are required."
   ]
  },
  {
   "cell_type": "markdown",
   "id": "1ed5e34d",
   "metadata": {},
   "source": [
    "<b>3. Compare and contrast map, filter, and reduce.</b>"
   ]
  },
  {
   "cell_type": "markdown",
   "id": "a398ecfb",
   "metadata": {},
   "source": [
    "reduce() works differently than map() and filter() . It does not return a new list based on the function and iterable we've passed. Instead, it returns a single value. Also, in Python 3 reduce() isn't a built-in function anymore, and it can be found in the functools module."
   ]
  },
  {
   "cell_type": "markdown",
   "id": "eb2c92fc",
   "metadata": {},
   "source": [
    "<b>4. What are function annotations, and how are they used?</b>"
   ]
  },
  {
   "cell_type": "markdown",
   "id": "84663904",
   "metadata": {},
   "source": [
    "Function annotations are completely optional both for parameters and return value. Function annotations provide a way of associating various parts of a function with arbitrary python expressions at compile time. The PEP-3107 makes no attempt to introduce any kind of standard semantics, even for the built-in types."
   ]
  },
  {
   "cell_type": "markdown",
   "id": "8ef7b442",
   "metadata": {},
   "source": [
    "<b>5. What are recursive functions, and how are they used?</b>"
   ]
  },
  {
   "cell_type": "markdown",
   "id": "37bcd47f",
   "metadata": {},
   "source": [
    "recursive function mean function call itself and terminate calling with some condition. best applicaqtion of recursive function is calling sequence of dependent processes."
   ]
  },
  {
   "cell_type": "markdown",
   "id": "439695f1",
   "metadata": {},
   "source": [
    "<b>6. What are some general design guidelines for coding functions?</b>"
   ]
  },
  {
   "cell_type": "markdown",
   "id": "cf6e90f1",
   "metadata": {},
   "source": [
    "Use the function naming rules: lowercase with words separated by underscores as necessary to improve readability. Use one leading underscore only for non-public methods and instance variables. To avoid name clashes with subclasses, use two leading underscores to invoke Python's name mangling rules."
   ]
  },
  {
   "cell_type": "markdown",
   "id": "0462c33f",
   "metadata": {},
   "source": [
    "<b>7. Name three or more ways that functions can communicate results to a caller.</b>"
   ]
  },
  {
   "cell_type": "markdown",
   "id": "77340274",
   "metadata": {},
   "source": [
    "1. returning result value\n",
    "2. refrencing result to args (Ex: passing dictionary to function and modify it with refrence)"
   ]
  },
  {
   "cell_type": "code",
   "execution_count": null,
   "id": "8f2ca84c",
   "metadata": {},
   "outputs": [],
   "source": []
  }
 ],
 "metadata": {
  "kernelspec": {
   "display_name": "Python 3 (ipykernel)",
   "language": "python",
   "name": "python3"
  },
  "language_info": {
   "codemirror_mode": {
    "name": "ipython",
    "version": 3
   },
   "file_extension": ".py",
   "mimetype": "text/x-python",
   "name": "python",
   "nbconvert_exporter": "python",
   "pygments_lexer": "ipython3",
   "version": "3.8.10"
  }
 },
 "nbformat": 4,
 "nbformat_minor": 5
}
