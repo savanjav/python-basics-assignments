{
 "cells": [
  {
   "cell_type": "markdown",
   "id": "85e45c62",
   "metadata": {},
   "source": [
    "<b>1. What does RGBA stand for?</b>"
   ]
  },
  {
   "cell_type": "markdown",
   "id": "d03b4373",
   "metadata": {},
   "source": [
    "RGBA mean Red,Gree,Blue(0-255) and Alpha opacity(0-1) compomemt of color pixel."
   ]
  },
  {
   "cell_type": "markdown",
   "id": "4ac6473d",
   "metadata": {},
   "source": [
    "<b>2. From the Pillow module, how do you get the RGBA value of any images?</b>"
   ]
  },
  {
   "cell_type": "markdown",
   "id": "80a5b147",
   "metadata": {},
   "source": [
    "from PIL import Image\n",
    "\n",
    "img = Image.open('C:/Users/savan/Desktop/heroku fix.png')\n",
    "\n",
    "rgba = img.convert(\"RGBA\")\n",
    "\n",
    "data = rgba.getdata()\n",
    "\n",
    "list(data)"
   ]
  },
  {
   "cell_type": "markdown",
   "id": "624cd62a",
   "metadata": {},
   "source": [
    "<b>3. What is a box tuple, and how does it work?</b>"
   ]
  },
  {
   "cell_type": "markdown",
   "id": "6409fc83",
   "metadata": {},
   "source": [
    "Many of Pillow's functions and methods take a box tuple argument. This means Pillow is expecting a tuple of four integer coordinates that represent a rectangular region in an image."
   ]
  },
  {
   "cell_type": "markdown",
   "id": "c402f885",
   "metadata": {},
   "source": [
    "<b>4. Use your image and load in notebook then, How can you find out the width and height of an\n",
    "Image object?</b>"
   ]
  },
  {
   "cell_type": "code",
   "execution_count": 13,
   "id": "bb9b1bdf",
   "metadata": {},
   "outputs": [
    {
     "data": {
      "text/plain": [
       "(430, 117)"
      ]
     },
     "execution_count": 13,
     "metadata": {},
     "output_type": "execute_result"
    }
   ],
   "source": [
    "from PIL import Image\n",
    "\n",
    "img = Image.open('logo.png')\n",
    "img.size"
   ]
  },
  {
   "cell_type": "markdown",
   "id": "35f94ab8",
   "metadata": {},
   "source": [
    "<b>5. What method would you call to get Image object for a 100×100 image, excluding the lower-left\n",
    "quarter of it?</b>"
   ]
  },
  {
   "cell_type": "code",
   "execution_count": 26,
   "id": "496d6cc1",
   "metadata": {},
   "outputs": [
    {
     "data": {
      "image/png": "[encoded data removed]",
      "text/plain": [
       "<PIL.Image.Image image mode=RGB size=430x117 at 0x1F1441950A0>"
      ]
     },
     "execution_count": 26,
     "metadata": {},
     "output_type": "execute_result"
    }
   ],
   "source": [
    "from PIL import Image\n",
    "import numpy as np      \n",
    "\n",
    "img = Image.open('logo.png').convert('RGB')\n",
    "img_arr = np.array(img)\n",
    "img_arr[50 : 100, 0 : 50] = (0, 0, 0)\n",
    "img = Image.fromarray(img_arr)\n",
    "img"
   ]
  },
  {
   "cell_type": "markdown",
   "id": "833c8686",
   "metadata": {},
   "source": [
    "<b>6. After making changes to an Image object, how could you save it as an image file?</b>"
   ]
  },
  {
   "cell_type": "markdown",
   "id": "5b58fcec",
   "metadata": {},
   "source": [
    "calling save() of Image object"
   ]
  },
  {
   "cell_type": "markdown",
   "id": "623fe07c",
   "metadata": {},
   "source": [
    "<b>7. What module contains Pillow’s shape-drawing code?</b>"
   ]
  },
  {
   "cell_type": "markdown",
   "id": "a52f0a79",
   "metadata": {},
   "source": [
    "ImageDraw module of the Python image processing library Pillow (PIL) provides many methods for drawing figures, such as circles, squares, and straight lines."
   ]
  },
  {
   "cell_type": "markdown",
   "id": "b4ffc570",
   "metadata": {},
   "source": [
    "<b>8. Image objects do not have drawing methods. What kind of object does? How do you get this kind\n",
    "of object?</b>"
   ]
  },
  {
   "cell_type": "markdown",
   "id": "698425eb",
   "metadata": {},
   "source": [
    "Attaching Image object with ImageDraw object and by using it's draw() method "
   ]
  },
  {
   "cell_type": "code",
   "execution_count": null,
   "id": "9d344473",
   "metadata": {},
   "outputs": [],
   "source": []
  }
 ],
 "metadata": {
  "kernelspec": {
   "display_name": "Python 3 (ipykernel)",
   "language": "python",
   "name": "python3"
  },
  "language_info": {
   "codemirror_mode": {
    "name": "ipython",
    "version": 3
   },
   "file_extension": ".py",
   "mimetype": "text/x-python",
   "name": "python",
   "nbconvert_exporter": "python",
   "pygments_lexer": "ipython3",
   "version": "3.8.10"
  }
 },
 "nbformat": 4,
 "nbformat_minor": 5
}
