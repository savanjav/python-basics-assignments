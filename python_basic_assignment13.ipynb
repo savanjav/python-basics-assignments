{
 "cells": [
  {
   "cell_type": "markdown",
   "id": "a05891c0",
   "metadata": {},
   "source": [
    "<b>1. What advantages do Excel spreadsheets have over CSV spreadsheets?</b>"
   ]
  },
  {
   "cell_type": "markdown",
   "id": "5549451e",
   "metadata": {},
   "source": [
    "Excel is more superior when compared with the CSV file format. CSV does not manipulate data and stores it as-is. Excel also allows the user the add-in feature."
   ]
  },
  {
   "cell_type": "markdown",
   "id": "d5a8f9a8",
   "metadata": {},
   "source": [
    "<b>2.What do you pass to csv.reader() and csv.writer() to create reader and writer objects?</b>"
   ]
  },
  {
   "cell_type": "markdown",
   "id": "71ba4c2a",
   "metadata": {},
   "source": [
    "file object"
   ]
  },
  {
   "cell_type": "markdown",
   "id": "2e6355f1",
   "metadata": {},
   "source": [
    "<b>3. What modes do File objects for reader and writer objects need to be opened in?</b>"
   ]
  },
  {
   "cell_type": "markdown",
   "id": "13c0e45a",
   "metadata": {},
   "source": [
    "rt - mode  => read text mode"
   ]
  },
  {
   "cell_type": "markdown",
   "id": "cd0d444d",
   "metadata": {},
   "source": [
    "<b>4. What method takes a list argument and writes it to a CSV file?</b>"
   ]
  },
  {
   "cell_type": "markdown",
   "id": "00743603",
   "metadata": {},
   "source": [
    "writerow() of writer object"
   ]
  },
  {
   "cell_type": "markdown",
   "id": "4ae79121",
   "metadata": {},
   "source": [
    "<b>5. What do the keyword arguments delimiter and line terminator do?</b>"
   ]
  },
  {
   "cell_type": "markdown",
   "id": "c509ee6a",
   "metadata": {},
   "source": [
    "csvWriter = csv.writer(csvFile, delimiter='\\t', lineterminator='\\n\\n')\n",
    "\n",
    "lineterminator change the end of line pattern - default new line \\n\n",
    "delimiter change sepration of cells - default ,"
   ]
  },
  {
   "cell_type": "markdown",
   "id": "81ce2848",
   "metadata": {},
   "source": [
    "<b>6. What function takes a string of JSON data and returns a Python data structure?</b>"
   ]
  },
  {
   "cell_type": "markdown",
   "id": "a0056b2c",
   "metadata": {},
   "source": [
    "json.loads() - deserialization"
   ]
  },
  {
   "cell_type": "markdown",
   "id": "7966577f",
   "metadata": {},
   "source": [
    "<b>7. What function takes a Python data structure and returns a string of JSON data?</b>"
   ]
  },
  {
   "cell_type": "markdown",
   "id": "0c7d23dc",
   "metadata": {},
   "source": [
    "json.dumps()"
   ]
  },
  {
   "cell_type": "code",
   "execution_count": null,
   "id": "c02f2b9c",
   "metadata": {},
   "outputs": [],
   "source": []
  }
 ],
 "metadata": {
  "kernelspec": {
   "display_name": "Python 3 (ipykernel)",
   "language": "python",
   "name": "python3"
  },
  "language_info": {
   "codemirror_mode": {
    "name": "ipython",
    "version": 3
   },
   "file_extension": ".py",
   "mimetype": "text/x-python",
   "name": "python",
   "nbconvert_exporter": "python",
   "pygments_lexer": "ipython3",
   "version": "3.8.10"
  }
 },
 "nbformat": 4,
 "nbformat_minor": 5
}
