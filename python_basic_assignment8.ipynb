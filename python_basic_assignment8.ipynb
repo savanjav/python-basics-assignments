{
 "cells": [
  {
   "cell_type": "markdown",
   "id": "bfedeb0f",
   "metadata": {},
   "source": [
    "<b>1. Is the Python Standard Library included with PyInputPlus? </b>"
   ]
  },
  {
   "cell_type": "markdown",
   "id": "620bf0ae",
   "metadata": {},
   "source": [
    "NO"
   ]
  },
  {
   "cell_type": "markdown",
   "id": "2c36c033",
   "metadata": {},
   "source": [
    "<b>2. Why is PyInputPlus commonly imported with import pyinputplus as pypi?</b>"
   ]
  },
  {
   "cell_type": "markdown",
   "id": "0363a5ce",
   "metadata": {},
   "source": [
    "for short naming convention and for easy resusable purpose."
   ]
  },
  {
   "cell_type": "markdown",
   "id": "480a9033",
   "metadata": {},
   "source": [
    "<b>3. How do you distinguish between inputInt() and inputFloat()?</b>"
   ]
  },
  {
   "cell_type": "markdown",
   "id": "c7e80493",
   "metadata": {},
   "source": [
    "inputInt() takes int data for validation as an input while inputFloat takes Float data for validation as an input."
   ]
  },
  {
   "cell_type": "markdown",
   "id": "bfc9e139",
   "metadata": {},
   "source": [
    "<b>4. Using PyInputPlus, how do you ensure that the user enters a whole number between 0 and 99?</b>"
   ]
  },
  {
   "cell_type": "code",
   "execution_count": 3,
   "id": "abf86ff7",
   "metadata": {},
   "outputs": [
    {
     "name": "stdout",
     "output_type": "stream",
     "text": [
      "Enter an Integer... 100\n",
      "Number must be at maximum 99.\n",
      "Enter an Integer... 99\n",
      "99\n"
     ]
    }
   ],
   "source": [
    "import pyinputplus as pyip\n",
    "  \n",
    "# integer input with\n",
    "# specific bounds\n",
    "inp = pyip.inputInt(prompt = \"Enter an Integer... \",\n",
    "                    min = 0, max = 99 )\n",
    "  \n",
    "print(inp)"
   ]
  },
  {
   "cell_type": "markdown",
   "id": "78a95bee",
   "metadata": {},
   "source": [
    "<b>5. What is transferred to the keyword arguments allowRegexes and blockRegexes?</b>"
   ]
  },
  {
   "cell_type": "markdown",
   "id": "2ffeb817",
   "metadata": {},
   "source": [
    "Regular Expression pass to allowRegex will allow input string if any part of string matches the regular expression. <br>\n",
    "Regular Expression pass to blockRegex will block input string if any part of string matches the regular expression. <br>"
   ]
  },
  {
   "cell_type": "markdown",
   "id": "46f70f7c",
   "metadata": {},
   "source": [
    "<b>6. If a blank input is entered three times, what does inputStr(limit=3) do?</b>"
   ]
  },
  {
   "cell_type": "markdown",
   "id": "b8ab41f6",
   "metadata": {},
   "source": [
    "RetryLimitException raised."
   ]
  },
  {
   "cell_type": "markdown",
   "id": "ac849f9e",
   "metadata": {},
   "source": [
    "<b>7. If blank input is entered three times, what does inputStr(limit=3, default=&#39;hello&#39;) do?</b>"
   ]
  },
  {
   "cell_type": "markdown",
   "id": "af540cc0",
   "metadata": {},
   "source": [
    "returns 'hello'"
   ]
  },
  {
   "cell_type": "code",
   "execution_count": null,
   "id": "70a04d46",
   "metadata": {},
   "outputs": [],
   "source": []
  }
 ],
 "metadata": {
  "kernelspec": {
   "display_name": "Python 3",
   "language": "python",
   "name": "python3"
  },
  "language_info": {
   "codemirror_mode": {
    "name": "ipython",
    "version": 3
   },
   "file_extension": ".py",
   "mimetype": "text/x-python",
   "name": "python",
   "nbconvert_exporter": "python",
   "pygments_lexer": "ipython3",
   "version": "3.8.8"
  }
 },
 "nbformat": 4,
 "nbformat_minor": 5
}
