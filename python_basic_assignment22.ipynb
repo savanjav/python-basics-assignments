{
 "cells": [
  {
   "cell_type": "markdown",
   "id": "4f57a629",
   "metadata": {},
   "source": [
    "<u>Ans 1</u> : iNeuron"
   ]
  },
  {
   "cell_type": "markdown",
   "id": "89f7e485",
   "metadata": {},
   "source": [
    "<u>Ans2</u> : iNeuron, because both X out side and inside the method are different "
   ]
  },
  {
   "cell_type": "markdown",
   "id": "ec3b0699",
   "metadata": {},
   "source": [
    "<u>Ans 3</u> :\n",
    "    \n",
    "NI<br />\n",
    "iNeuron<br />\n",
    "\n",
    "because both X out side and inside the method are different "
   ]
  },
  {
   "cell_type": "markdown",
   "id": "03856033",
   "metadata": {},
   "source": [
    "<u>Ans 4</u> : &#39;NI&#39;, because x becomes global variable"
   ]
  },
  {
   "cell_type": "markdown",
   "id": "b7185f52",
   "metadata": {},
   "source": [
    "<u>Ans 5</u> : \n",
    "\n",
    "NI\n",
    "iNeuron\n",
    "\n",
    "because when call fun() nested() is called inside and print NI, and after we print X which prints iNeuron, here both variable scope is differennt.\n"
   ]
  },
  {
   "cell_type": "markdown",
   "id": "9d3eeb33",
   "metadata": {},
   "source": [
    "<u>Ans 6</u>:\n",
    "\n",
    "Spam\n",
    "\n",
    "because here X variable becomes global.\n"
   ]
  },
  {
   "cell_type": "code",
   "execution_count": null,
   "id": "d8a434ed",
   "metadata": {},
   "outputs": [],
   "source": []
  },
  {
   "cell_type": "code",
   "execution_count": null,
   "id": "ef088356",
   "metadata": {},
   "outputs": [],
   "source": []
  }
 ],
 "metadata": {
  "kernelspec": {
   "display_name": "Python 3 (ipykernel)",
   "language": "python",
   "name": "python3"
  },
  "language_info": {
   "codemirror_mode": {
    "name": "ipython",
    "version": 3
   },
   "file_extension": ".py",
   "mimetype": "text/x-python",
   "name": "python",
   "nbconvert_exporter": "python",
   "pygments_lexer": "ipython3",
   "version": "3.8.10"
  }
 },
 "nbformat": 4,
 "nbformat_minor": 5
}
