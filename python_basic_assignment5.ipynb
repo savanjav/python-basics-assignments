{
 "cells": [
  {
   "cell_type": "markdown",
   "id": "familiar-newfoundland",
   "metadata": {},
   "source": [
    "<b> 1. What does an empty dictionary&#39;s code look like? </b>"
   ]
  },
  {
   "cell_type": "code",
   "execution_count": 2,
   "id": "familiar-train",
   "metadata": {},
   "outputs": [],
   "source": [
    "dict = {}"
   ]
  },
  {
   "cell_type": "markdown",
   "id": "super-spice",
   "metadata": {},
   "source": [
    "<b> 2. What is the value of a dictionary value with the key &#39;foo&#39; and the value 42? </b>"
   ]
  },
  {
   "cell_type": "code",
   "execution_count": 4,
   "id": "suitable-accuracy",
   "metadata": {},
   "outputs": [],
   "source": [
    "dict = {'foo':42}"
   ]
  },
  {
   "cell_type": "markdown",
   "id": "acceptable-invention",
   "metadata": {},
   "source": [
    "<b> 3. What is the most significant distinction between a dictionary and a list? </b>"
   ]
  },
  {
   "cell_type": "markdown",
   "id": "planned-engine",
   "metadata": {},
   "source": [
    "list elements conatins single value, dictionary elements contains key:value pair."
   ]
  },
  {
   "cell_type": "markdown",
   "id": "collectible-wagon",
   "metadata": {},
   "source": [
    "<b> 4. What happens if you try to access spam[&#39;foo&#39;] if spam is {&#39;bar&#39;: 100}? </b>"
   ]
  },
  {
   "cell_type": "markdown",
   "id": "informed-burner",
   "metadata": {},
   "source": [
    "gives type error because we can't access set elements using []"
   ]
  },
  {
   "cell_type": "code",
   "execution_count": 26,
   "id": "monthly-windsor",
   "metadata": {},
   "outputs": [
    {
     "ename": "TypeError",
     "evalue": "'set' object is not subscriptable",
     "output_type": "error",
     "traceback": [
      "\u001b[0;31m---------------------------------------------------------------------------\u001b[0m",
      "\u001b[0;31mTypeError\u001b[0m                                 Traceback (most recent call last)",
      "\u001b[0;32m<ipython-input-26-bc286471718d>\u001b[0m in \u001b[0;36m<module>\u001b[0;34m\u001b[0m\n\u001b[1;32m      1\u001b[0m \u001b[0mspam\u001b[0m \u001b[0;34m=\u001b[0m \u001b[0;34m{\u001b[0m\u001b[0;34m'bar'\u001b[0m\u001b[0;34m,\u001b[0m\u001b[0;36m100\u001b[0m\u001b[0;34m}\u001b[0m\u001b[0;34m\u001b[0m\u001b[0;34m\u001b[0m\u001b[0m\n\u001b[0;32m----> 2\u001b[0;31m \u001b[0mspam\u001b[0m\u001b[0;34m[\u001b[0m\u001b[0;34m'foo'\u001b[0m\u001b[0;34m]\u001b[0m\u001b[0;34m\u001b[0m\u001b[0;34m\u001b[0m\u001b[0m\n\u001b[0m",
      "\u001b[0;31mTypeError\u001b[0m: 'set' object is not subscriptable"
     ]
    }
   ],
   "source": [
    "spam = {'bar',100}\n",
    "spam['foo']"
   ]
  },
  {
   "cell_type": "markdown",
   "id": "efficient-climb",
   "metadata": {},
   "source": [
    "<b> 5. If a dictionary is stored in spam, what is the difference between the expressions &#39;cat&#39; in spam and\n",
    "&#39;cat&#39; in spam.keys()? </b>"
   ]
  },
  {
   "cell_type": "markdown",
   "id": "descending-batman",
   "metadata": {},
   "source": [
    "- 'cat' in spam will find if any key exist or not in spam and return True if exist else return False. <br>\n",
    "- 'cat' in spam.keys() first return list of spam keys and then find 'cat' in that list and return True if exist else return False.  "
   ]
  },
  {
   "cell_type": "markdown",
   "id": "public-pursuit",
   "metadata": {},
   "source": [
    "<b> 6. If a dictionary is stored in spam, what is the difference between the expressions &#39;cat&#39; in spam and\n",
    "&#39;cat&#39; in spam.values()? </b>"
   ]
  },
  {
   "cell_type": "markdown",
   "id": "responsible-worst",
   "metadata": {},
   "source": [
    "- 'cat' in spam will find if any key exist or not in spam and return True if exist else return False. <br>\n",
    "- 'cat' in spam.values() first return list of spam values and then find 'cat' in that list and return True if exist else return False.  "
   ]
  },
  {
   "cell_type": "markdown",
   "id": "olympic-alert",
   "metadata": {},
   "source": [
    "<pre>\n",
    "<b>7. What is a shortcut for the following code?\n",
    " if &#39;color&#39; not in spam:\n",
    " spam[&#39;color&#39;] = &#39;black&#39; </b></pre>"
   ]
  },
  {
   "cell_type": "markdown",
   "id": "mighty-monster",
   "metadata": {},
   "source": [
    "both are already in shortcut code"
   ]
  },
  {
   "cell_type": "markdown",
   "id": "static-transformation",
   "metadata": {},
   "source": [
    "<b> 8. How do you &quot;pretty print&quot; dictionary values using which module and function? </b>"
   ]
  },
  {
   "cell_type": "markdown",
   "id": "specific-factor",
   "metadata": {},
   "source": [
    "module => pprint, method => pprint() is use for more redable 'pretty print' dictionary values"
   ]
  },
  {
   "cell_type": "code",
   "execution_count": null,
   "id": "immune-poverty",
   "metadata": {},
   "outputs": [],
   "source": []
  }
 ],
 "metadata": {
  "kernelspec": {
   "display_name": "Python 3",
   "language": "python",
   "name": "python3"
  },
  "language_info": {
   "codemirror_mode": {
    "name": "ipython",
    "version": 3
   },
   "file_extension": ".py",
   "mimetype": "text/x-python",
   "name": "python",
   "nbconvert_exporter": "python",
   "pygments_lexer": "ipython3",
   "version": "3.6.13"
  }
 },
 "nbformat": 4,
 "nbformat_minor": 5
}
