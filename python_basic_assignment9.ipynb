{
 "cells": [
  {
   "cell_type": "markdown",
   "id": "d87bfbe5",
   "metadata": {},
   "source": [
    "<b>1. To what does a relative path refer?</b>"
   ]
  },
  {
   "cell_type": "markdown",
   "id": "71b33ea0",
   "metadata": {},
   "source": [
    "A relative path refers to a location that is relative to a current directory."
   ]
  },
  {
   "cell_type": "markdown",
   "id": "7330fb41",
   "metadata": {},
   "source": [
    "<b>2. What does an absolute path start with your operating system?</b>"
   ]
  },
  {
   "cell_type": "markdown",
   "id": "60be2c4b",
   "metadata": {},
   "source": [
    "Absolute path starting with root element, ex: for Windows OS : E:\\ARTIFICIAL INTELLIGENCE\\I NEURON\\ASSIGMENTS\\python basic assignments   "
   ]
  },
  {
   "cell_type": "markdown",
   "id": "a997bdc1",
   "metadata": {},
   "source": [
    "<b> 3. What do the functions os.getcwd() and os.chdir() do? </b>"
   ]
  },
  {
   "cell_type": "markdown",
   "id": "eec66cf3",
   "metadata": {},
   "source": [
    "getcwd allowed to see current working directory and chdir() allow to change current working dir in OS"
   ]
  },
  {
   "cell_type": "markdown",
   "id": "54096b1a",
   "metadata": {},
   "source": [
    "<b>4. What are the . and .. folders?</b>"
   ]
  },
  {
   "cell_type": "markdown",
   "id": "44d82713",
   "metadata": {},
   "source": [
    ". mean one level back and .. mean 2 level back in relative path"
   ]
  },
  {
   "cell_type": "markdown",
   "id": "11090288",
   "metadata": {},
   "source": [
    "<b>5. In C:\\bacon\\eggs\\spam.txt, which part is the dir name, and which part is the base name?</b>"
   ]
  },
  {
   "cell_type": "markdown",
   "id": "2335df91",
   "metadata": {},
   "source": [
    "dir name part => C:\\bacon\\eggs<br>\n",
    "base name part => spam.txt    "
   ]
  },
  {
   "cell_type": "markdown",
   "id": "45c9c8d2",
   "metadata": {},
   "source": [
    "<b> 6. What are the three “mode” arguments that can be passed to the open() function? </b>"
   ]
  },
  {
   "cell_type": "markdown",
   "id": "ef858fcf",
   "metadata": {},
   "source": [
    "\"r\" - Read - Default value. Opens a file for reading, error if the file does not exist <br><br>\n",
    "\n",
    "\"a\" - Append - Opens a file for appending, creates the file if it does not exist <br><br>\n",
    "\n",
    "\"w\" - Write - Opens a file for writing, creates the file if it does not exist <br><br>\n",
    "\n",
    "\"x\" - Create - Creates the specified file, returns an error if the file exists <br><br>"
   ]
  },
  {
   "cell_type": "markdown",
   "id": "db7f05f7",
   "metadata": {},
   "source": [
    "<b>7. What happens if an existing file is opened in write mode?</b>"
   ]
  },
  {
   "cell_type": "markdown",
   "id": "4af40d12",
   "metadata": {},
   "source": [
    "open will override the file content."
   ]
  },
  {
   "cell_type": "markdown",
   "id": "f248a834",
   "metadata": {},
   "source": [
    "<b> 8. How do you tell the difference between read() and readlines()? </b>"
   ]
  },
  {
   "cell_type": "markdown",
   "id": "a763ed16",
   "metadata": {},
   "source": [
    "read() would treat each character in the file separately, meaning that the iteration would happen for every character. The readline() function, on the other hand, only reads a single line of the file."
   ]
  },
  {
   "cell_type": "markdown",
   "id": "2d7817b3",
   "metadata": {},
   "source": [
    "<b> 9. What data structure does a shelf value resemble? </b>"
   ]
  },
  {
   "cell_type": "markdown",
   "id": "c820eefb",
   "metadata": {},
   "source": [
    "dictionary"
   ]
  },
  {
   "cell_type": "code",
   "execution_count": null,
   "id": "5f6c900c",
   "metadata": {},
   "outputs": [],
   "source": []
  }
 ],
 "metadata": {
  "kernelspec": {
   "display_name": "Python 3",
   "language": "python",
   "name": "python3"
  },
  "language_info": {
   "codemirror_mode": {
    "name": "ipython",
    "version": 3
   },
   "file_extension": ".py",
   "mimetype": "text/x-python",
   "name": "python",
   "nbconvert_exporter": "python",
   "pygments_lexer": "ipython3",
   "version": "3.8.8"
  }
 },
 "nbformat": 4,
 "nbformat_minor": 5
}
