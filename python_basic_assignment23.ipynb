{
 "cells": [
  {
   "cell_type": "markdown",
   "id": "91d96bda",
   "metadata": {},
   "source": [
    "<b>1. What is the result of the code, and why?</b>"
   ]
  },
  {
   "cell_type": "code",
   "execution_count": 1,
   "id": "45b75354",
   "metadata": {},
   "outputs": [
    {
     "name": "stdout",
     "output_type": "stream",
     "text": [
      "1 2 8\n"
     ]
    }
   ],
   "source": [
    "def func(a, b=6, c=8):\n",
    "    print(a, b, c)\n",
    "func(1,2)"
   ]
  },
  {
   "cell_type": "code",
   "execution_count": 2,
   "id": "a8df675c",
   "metadata": {},
   "outputs": [],
   "source": [
    "# 1 and 2 will be pass to a and b and third argument is missing so c value will be 8"
   ]
  },
  {
   "cell_type": "markdown",
   "id": "7ad0264f",
   "metadata": {},
   "source": [
    "<b>2. What is the result of this code, and why?</b>"
   ]
  },
  {
   "cell_type": "code",
   "execution_count": 3,
   "id": "edb89f15",
   "metadata": {},
   "outputs": [
    {
     "name": "stdout",
     "output_type": "stream",
     "text": [
      "1 2 3\n"
     ]
    }
   ],
   "source": [
    "def func(a, b, c=5):\n",
    "    print(a, b, c)\n",
    "    \n",
    "func(1, c=3, b=2)\n"
   ]
  },
  {
   "cell_type": "code",
   "execution_count": 4,
   "id": "dff53a6f",
   "metadata": {},
   "outputs": [],
   "source": [
    "# 1 will be pass to first parameter, second argument is defined as c, so it will pass to c and same for b"
   ]
  },
  {
   "cell_type": "markdown",
   "id": "ef0a68f1",
   "metadata": {},
   "source": [
    "<b>3. How about this code: what is its result, and why?</b>"
   ]
  },
  {
   "cell_type": "code",
   "execution_count": 5,
   "id": "c10a731e",
   "metadata": {},
   "outputs": [
    {
     "name": "stdout",
     "output_type": "stream",
     "text": [
      "1 (2, 3)\n"
     ]
    }
   ],
   "source": [
    "def func(a, *pargs):\n",
    "    print(a, pargs)\n",
    "\n",
    "func(1, 2, 3)"
   ]
  },
  {
   "cell_type": "code",
   "execution_count": 6,
   "id": "3ba8b3eb",
   "metadata": {},
   "outputs": [],
   "source": [
    "# * use for non keyword arguments"
   ]
  },
  {
   "cell_type": "markdown",
   "id": "7c0c31a8",
   "metadata": {},
   "source": [
    "<b>4. What does this code print, and why?</b>"
   ]
  },
  {
   "cell_type": "code",
   "execution_count": 8,
   "id": "e78f7abf",
   "metadata": {},
   "outputs": [
    {
     "name": "stdout",
     "output_type": "stream",
     "text": [
      "1 {'c': 3, 'b': 2}\n"
     ]
    }
   ],
   "source": [
    "def func(a, **kargs):\n",
    "    print(a, kargs)\n",
    "func(a=1, c=3, b=2)"
   ]
  },
  {
   "cell_type": "code",
   "execution_count": 9,
   "id": "22474c51",
   "metadata": {},
   "outputs": [],
   "source": [
    "# ** use keyword arguments"
   ]
  },
  {
   "cell_type": "markdown",
   "id": "6c3c6e6a",
   "metadata": {},
   "source": [
    "<b>5. What gets printed by this, and explain?</b>"
   ]
  },
  {
   "cell_type": "code",
   "execution_count": 11,
   "id": "4c7dad1c",
   "metadata": {},
   "outputs": [
    {
     "name": "stdout",
     "output_type": "stream",
     "text": [
      "1 5 6 5\n"
     ]
    }
   ],
   "source": [
    "def func(a, b, c=8, d=5): \n",
    "    print(a, b, c, d)\n",
    "func(1, *(5, 6))\n"
   ]
  },
  {
   "cell_type": "code",
   "execution_count": 12,
   "id": "b5bcc572",
   "metadata": {},
   "outputs": [],
   "source": [
    "# 1 will pass to a, *(5,6) will be pass to b and c, d=5 will be use as default"
   ]
  },
  {
   "cell_type": "markdown",
   "id": "88cc58d4",
   "metadata": {},
   "source": [
    "<b>6. what is the result of this, and explain?</b>"
   ]
  },
  {
   "cell_type": "code",
   "execution_count": 18,
   "id": "1dffb4b8",
   "metadata": {},
   "outputs": [],
   "source": [
    "def func(a, b, c):\n",
    "    a = 2; b[0] = 'x'; c['a'] = 'y'\n",
    "l=1; m=[1]; n={'a':0}\n",
    "func(l, m, n)"
   ]
  },
  {
   "cell_type": "code",
   "execution_count": 24,
   "id": "51e39e29",
   "metadata": {},
   "outputs": [
    {
     "data": {
      "text/plain": [
       "{'a': 'y'}"
      ]
     },
     "execution_count": 24,
     "metadata": {},
     "output_type": "execute_result"
    }
   ],
   "source": [
    "n"
   ]
  },
  {
   "cell_type": "code",
   "execution_count": null,
   "id": "22a90dfb",
   "metadata": {},
   "outputs": [],
   "source": [
    "# n dictionary same key value will be modify, dictionary pass as a refrence"
   ]
  }
 ],
 "metadata": {
  "kernelspec": {
   "display_name": "Python 3 (ipykernel)",
   "language": "python",
   "name": "python3"
  },
  "language_info": {
   "codemirror_mode": {
    "name": "ipython",
    "version": 3
   },
   "file_extension": ".py",
   "mimetype": "text/x-python",
   "name": "python",
   "nbconvert_exporter": "python",
   "pygments_lexer": "ipython3",
   "version": "3.8.10"
  }
 },
 "nbformat": 4,
 "nbformat_minor": 5
}
