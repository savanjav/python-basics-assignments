{
 "cells": [
  {
   "cell_type": "markdown",
   "metadata": {},
   "source": [
    "<b>1.What are the two values of the Boolean data type? How do you write them?</b>\n",
    "\n",
    "- We can write boolean values as True and False"
   ]
  },
  {
   "cell_type": "markdown",
   "metadata": {},
   "source": [
    "<b>2. What are the three different types of Boolean operators?</b>\n",
    "\n",
    "- and, or, not"
   ]
  },
  {
   "cell_type": "markdown",
   "metadata": {},
   "source": [
    "<b>3. Make a list of each Boolean operator&#39;s truth tables (i.e. every possible combination of Boolean\n",
    "values for the operator and what it evaluate ).</b>"
   ]
  },
  {
   "cell_type": "markdown",
   "metadata": {},
   "source": [
    "<table>\n",
    "    <tr>\n",
    "        <th>Operator</th>\n",
    "        <th>Description</th>\n",
    "        <th>Expression</th>\n",
    "        <th>Output</th>   \n",
    "    </tr>    \n",
    "    <tr>\n",
    "        <td>and</td>\n",
    "        <td>return True if both statements are true otherwise return False</td>\n",
    "        <td> 1 < 5 and  5 < 10 <b>|</b> 10 < 5 and  5 < 10 </td>\n",
    "        <td>True <b>|</b> False</td>\n",
    "    </tr>\n",
    "    <tr>\n",
    "        <td>or</td>\n",
    "        <td>return True if any statements are true, return False if both statements are false</td>\n",
    "        <td> 1 < 5 or  15 < 10 <b>|</b> 10 < 5 or  15 < 10 </td>\n",
    "        <td>True <b>|</b> False</td>\n",
    "    </tr>\n",
    "    <tr>\n",
    "        <td>not</td>\n",
    "        <td>return reverse result of an expression</td>\n",
    "        <td> not(15 < 5) <b>|</b> not(5 < 15) </td>\n",
    "        <td>True <b>|</b> False</td>\n",
    "    </tr>    \n",
    "</table>"
   ]
  },
  {
   "cell_type": "markdown",
   "metadata": {},
   "source": [
    "\n"
   ]
  },
  {
   "cell_type": "markdown",
   "metadata": {},
   "source": [
    "<b>4. What are the values of the following expressions?</b>"
   ]
  },
  {
   "cell_type": "code",
   "execution_count": 3,
   "metadata": {},
   "outputs": [
    {
     "data": {
      "text/plain": [
       "False"
      ]
     },
     "execution_count": 3,
     "metadata": {},
     "output_type": "execute_result"
    }
   ],
   "source": [
    "(5 > 4) and (3 == 5)"
   ]
  },
  {
   "cell_type": "code",
   "execution_count": 4,
   "metadata": {},
   "outputs": [
    {
     "data": {
      "text/plain": [
       "False"
      ]
     },
     "execution_count": 4,
     "metadata": {},
     "output_type": "execute_result"
    }
   ],
   "source": [
    "not (5 > 4)"
   ]
  },
  {
   "cell_type": "code",
   "execution_count": 5,
   "metadata": {},
   "outputs": [
    {
     "data": {
      "text/plain": [
       "True"
      ]
     },
     "execution_count": 5,
     "metadata": {},
     "output_type": "execute_result"
    }
   ],
   "source": [
    "(5 > 4) or (3 == 5)"
   ]
  },
  {
   "cell_type": "code",
   "execution_count": 6,
   "metadata": {},
   "outputs": [
    {
     "data": {
      "text/plain": [
       "False"
      ]
     },
     "execution_count": 6,
     "metadata": {},
     "output_type": "execute_result"
    }
   ],
   "source": [
    "not ((5 > 4) or (3 == 5))"
   ]
  },
  {
   "cell_type": "code",
   "execution_count": 7,
   "metadata": {},
   "outputs": [
    {
     "data": {
      "text/plain": [
       "False"
      ]
     },
     "execution_count": 7,
     "metadata": {},
     "output_type": "execute_result"
    }
   ],
   "source": [
    "(True and True) and (True == False)"
   ]
  },
  {
   "cell_type": "code",
   "execution_count": 8,
   "metadata": {},
   "outputs": [
    {
     "data": {
      "text/plain": [
       "True"
      ]
     },
     "execution_count": 8,
     "metadata": {},
     "output_type": "execute_result"
    }
   ],
   "source": [
    "(not False) or (not True)"
   ]
  },
  {
   "cell_type": "markdown",
   "metadata": {},
   "source": [
    "<b>5. What are the six comparison operators?</b>"
   ]
  },
  {
   "cell_type": "markdown",
   "metadata": {},
   "source": [
    "<table>\n",
    "    <tr>\n",
    "        <th>Operator</th>\n",
    "        <th>Description</th>\n",
    "        <th>Expression</th>\n",
    "        <th>Output</th>   \n",
    "    </tr>\n",
    "    <tr>\n",
    "        <td>Equal</td>\n",
    "        <td>Compare values</td>\n",
    "        <td>1==1, 1==2</td>\n",
    "        <td>True, False</td>\n",
    "    </tr>\n",
    "    <tr>\n",
    "        <td>Not Equal</td>\n",
    "        <td>Compare values that are not equal</td>\n",
    "        <td>1!=3, 1!=1</td>\n",
    "        <td>True, False</td>\n",
    "    </tr>\n",
    "    <tr>\n",
    "        <td>Greater Than</td>\n",
    "        <td>Compare first operand is greater than or not with second operand</td>\n",
    "        <td>5&#62;3, 3&#62;5</td>\n",
    "        <td>True, False</td>\n",
    "    </tr>\n",
    "    <tr>\n",
    "        <td>Less Than</td>\n",
    "        <td>Compare first operand is less than or not with second operand</td>\n",
    "        <td> 3&#60;5, 5&#60;3 </td>\n",
    "        <td>True, False</td>\n",
    "    </tr>\n",
    "    <tr>\n",
    "        <td>Greater than or equal to</td>\n",
    "        <td>Compare first operand is greater than or equal with second operand</td>\n",
    "        <td> 5>=5, 3>=5 </td>\n",
    "        <td>True, False</td>\n",
    "    </tr>\n",
    "    <tr>\n",
    "        <td>Less than or equal to</td>\n",
    "        <td>Compare first operand is less than or equal with second operand</td>\n",
    "        <td> 1<=5, 5<=1 </td>\n",
    "        <td>True, False</td>\n",
    "    </tr>\n",
    "</table>"
   ]
  },
  {
   "cell_type": "markdown",
   "metadata": {},
   "source": [
    "<b>6. How do you tell the difference between the equal to and assignment operators?Describe a\n",
    "condition and when you would use one.</b>\n",
    "\n",
    "- when we want to assign some value in variable then assignment operator is used, when we want to compare variable values then equal comparison operator is used."
   ]
  },
  {
   "cell_type": "markdown",
   "metadata": {},
   "source": [
    "<b>7. Identify the three blocks in this code:</b>"
   ]
  },
  {
   "cell_type": "markdown",
   "metadata": {},
   "source": [
    "<b>spam = 0<br>\n",
    "if spam == 10:<br>\n",
    "print(&#39;eggs&#39;)<br>\n",
    "if spam &gt; 5:<br>\n",
    "print(&#39;bacon&#39;)<br>\n",
    "else:<br>\n",
    "print(&#39;ham&#39;)<br>\n",
    "print(&#39;spam&#39;)<br>\n",
    "print(&#39;spam&#39;)<br></b>"
   ]
  },
  {
   "cell_type": "code",
   "execution_count": 22,
   "metadata": {},
   "outputs": [],
   "source": [
    "spam = 0"
   ]
  },
  {
   "cell_type": "code",
   "execution_count": 23,
   "metadata": {},
   "outputs": [],
   "source": [
    "if spam == 10:\n",
    "    print('eggs')"
   ]
  },
  {
   "cell_type": "code",
   "execution_count": 24,
   "metadata": {},
   "outputs": [
    {
     "name": "stdout",
     "output_type": "stream",
     "text": [
      "ham\n",
      "spam\n",
      "spam\n"
     ]
    }
   ],
   "source": [
    "if spam > 5:\n",
    "    print('bacon')\n",
    "else:\n",
    "    print('ham')\n",
    "    print('spam')\n",
    "    print('spam')"
   ]
  },
  {
   "cell_type": "markdown",
   "metadata": {},
   "source": [
    "<b>8. Write code that prints Hello if 1 is stored in spam, prints Howdy if 2 is stored in spam, and prints\n",
    "Greetings! if anything else is stored in spam.</b>"
   ]
  },
  {
   "cell_type": "code",
   "execution_count": 28,
   "metadata": {},
   "outputs": [
    {
     "name": "stdout",
     "output_type": "stream",
     "text": [
      "Greetings\n"
     ]
    }
   ],
   "source": [
    "if spam == 1:\n",
    "    print('Hello')\n",
    "elif spam == 2:\n",
    "    print('Howdy')\n",
    "else:\n",
    "    print('Greetings')"
   ]
  },
  {
   "cell_type": "markdown",
   "metadata": {},
   "source": [
    " <b>9.If your programme is stuck in an endless loop, what keys you’ll press?</b>\n",
    "   \n",
    "   Ctrl-C"
   ]
  },
  {
   "cell_type": "markdown",
   "metadata": {},
   "source": [
    "<b>10. How can you tell the difference between break and continue?</b>\n",
    "\n",
    "- break will terminate enitre loop and exit from loop, continue will skip current loop iteration."
   ]
  },
  {
   "cell_type": "markdown",
   "metadata": {},
   "source": [
    "<b>11. In a for loop, what is the difference between range(10), range(0, 10), and range(0, 10, 1)?</b>\n",
    "\n",
    "- range(10) will consider default starting number 0 and will tell for loop to iterate till 9 times using default increment 1.\n",
    "- range(0,10) will tell for loop to consider start index 0 for loop iteration and iterate till 9 using default increment 1.\n",
    "- range(0,10,1) will tell for loop to consider start index 0 for loop iteration and iterate till 9 using given increment 1."
   ]
  },
  {
   "cell_type": "markdown",
   "metadata": {},
   "source": [
    "<b>12. Write a short program that prints the numbers 1 to 10 using a for loop. Then write an equivalent\n",
    "program that prints the numbers 1 to 10 using a while loop.</b>"
   ]
  },
  {
   "cell_type": "code",
   "execution_count": 34,
   "metadata": {},
   "outputs": [
    {
     "name": "stdout",
     "output_type": "stream",
     "text": [
      "1\n",
      "2\n",
      "3\n",
      "4\n",
      "5\n",
      "6\n",
      "7\n",
      "8\n",
      "9\n",
      "10\n"
     ]
    }
   ],
   "source": [
    "for x in range(1,11):\n",
    "  print(x)"
   ]
  },
  {
   "cell_type": "code",
   "execution_count": 35,
   "metadata": {},
   "outputs": [
    {
     "name": "stdout",
     "output_type": "stream",
     "text": [
      "1\n",
      "2\n",
      "3\n",
      "4\n",
      "5\n",
      "6\n",
      "7\n",
      "8\n",
      "9\n",
      "10\n"
     ]
    }
   ],
   "source": [
    "i = 1\n",
    "while i < 11:\n",
    "  print(i)\n",
    "  i += 1"
   ]
  },
  {
   "cell_type": "markdown",
   "metadata": {},
   "source": [
    "<b>13. If you had a function named bacon() inside a module named spam, how would you call it after\n",
    "importing spam?</b>\n",
    "\n",
    "spam.bacon()"
   ]
  },
  {
   "cell_type": "code",
   "execution_count": null,
   "metadata": {},
   "outputs": [],
   "source": []
  }
 ],
 "metadata": {
  "kernelspec": {
   "display_name": "Python 3",
   "language": "python",
   "name": "python3"
  },
  "language_info": {
   "codemirror_mode": {
    "name": "ipython",
    "version": 3
   },
   "file_extension": ".py",
   "mimetype": "text/x-python",
   "name": "python",
   "nbconvert_exporter": "python",
   "pygments_lexer": "ipython3",
   "version": "3.8.5"
  }
 },
 "nbformat": 4,
 "nbformat_minor": 4
}
