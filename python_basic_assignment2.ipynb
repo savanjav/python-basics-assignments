{
 "cells": [
  {
   "cell_type": "markdown",
   "metadata": {},
   "source": [
    "<b>1.What are the two values of the Boolean data type? How do you write them?</b>\n",
    "\n",
    "- We can write boolean values as True and False"
   ]
  },
  {
   "cell_type": "markdown",
   "metadata": {},
   "source": [
    "<b>2. What are the three different types of Boolean operators?</b>\n",
    "\n",
    "- and, or, not"
   ]
  },
  {
   "cell_type": "markdown",
   "metadata": {},
   "source": [
    "<b>3. Make a list of each Boolean operator&#39;s truth tables (i.e. every possible combination of Boolean\n",
    "values for the operator and what it evaluate ).</b>"
   ]
  },
  {
   "cell_type": "markdown",
   "metadata": {},
   "source": [
    "<table>\n",
    "    <tr>\n",
    "        <th>Operator</th>\n",
    "        <th>Description</th>\n",
    "        <th>Expression</th>\n",
    "        <th>Output</th>   \n",
    "    </tr>\n",
    "    <tr> <td colspan=4 style=\"text-align:center;color:blue\"><b>Comparison Operators</b></td> </tr>\n",
    "    <tr>\n",
    "        <td>Equal</td>\n",
    "        <td>Compare values</td>\n",
    "        <td>1==1, 1==2</td>\n",
    "        <td>True, False</td>\n",
    "    </tr>\n",
    "    <tr>\n",
    "        <td>Not Equal</td>\n",
    "        <td>Compare values that are not equal</td>\n",
    "        <td>1!=3, 1!=1</td>\n",
    "        <td>True, False</td>\n",
    "    </tr>\n",
    "    <tr>\n",
    "        <td>Greater Than</td>\n",
    "        <td>Compare first operand is greater than or not with second operand</td>\n",
    "        <td>5&#62;3, 3&#62;5</td>\n",
    "        <td>True, False</td>\n",
    "    </tr>\n",
    "    <tr>\n",
    "        <td>Less Than</td>\n",
    "        <td>Compare first operand is less than or not with second operand</td>\n",
    "        <td> 3&#60;5, 5&#60;3 </td>\n",
    "        <td>True, False</td>\n",
    "    </tr>\n",
    "    <tr>\n",
    "        <td>Greater than or equal to</td>\n",
    "        <td>Compare first operand is greater than or equal with second operand</td>\n",
    "        <td> 5>=5, 3>=5 </td>\n",
    "        <td>True, False</td>\n",
    "    </tr>\n",
    "    <tr>\n",
    "        <td>Less than or equal to</td>\n",
    "        <td>Compare first operand is less than or equal with second operand</td>\n",
    "        <td> 1<=5, 5<=1 </td>\n",
    "        <td>True, False</td>\n",
    "    </tr>\n",
    "    <tr> <td colspan=4 style=\"text-align:center;color:blue\"><b>Logical Operators</b></td> </tr>\n",
    "    <tr>\n",
    "        <td>and</td>\n",
    "        <td>return True if both statements are true otherwise return False</td>\n",
    "        <td> 1 < 5 and  5 < 10 <b>|</b> 10 < 5 and  5 < 10 </td>\n",
    "        <td>True <b>|</b> False</td>\n",
    "    </tr>\n",
    "    <tr>\n",
    "        <td>or</td>\n",
    "        <td>return True if any statements are true, return False if both statements are false</td>\n",
    "        <td> 1 < 5 or  15 < 10 <b>|</b> 10 < 5 or  15 < 10 </td>\n",
    "        <td>True <b>|</b> False</td>\n",
    "    </tr>\n",
    "    <tr>\n",
    "        <td>not</td>\n",
    "        <td>return reverse result of an expression</td>\n",
    "        <td> not(15 < 5) <b>|</b> not(5 < 15) </td>\n",
    "        <td>True <b>|</b> False</td>\n",
    "    </tr>\n",
    "    <tr> <td colspan=4 style=\"text-align:center;color:blue\"><b>Identity Operators</b></td> </tr>\n",
    "    <tr>\n",
    "        <td>is</td>\n",
    "        <td>Returns True if both variables are the same object</td>\n",
    "        <td>\n",
    "            <br>x = [\"apple\", \"banana\"]\n",
    "            <br>y = [\"apple\", \"banana\"]\n",
    "            <br>z = x \n",
    "            <br>x is z , x is y\n",
    "        </td>   \n",
    "        <td>True , False</td>\n",
    "    </tr>\n",
    "    <tr>\n",
    "        <td>is not</td>\n",
    "        <td>Returns True if both variables are not the same object</td>\n",
    "        <td>\n",
    "            <br>x = [\"apple\", \"banana\"]\n",
    "            <br>y = [\"apple\", \"banana\"]\n",
    "            <br>z = x \n",
    "            <br>x is not y , x is not z\n",
    "        </td>   \n",
    "        <td>True , False</td>\n",
    "    </tr>\n",
    "    <tr> <td colspan=4 style=\"text-align:center;color:blue\"><b>Membership Operators</b></td> </tr>\n",
    "    <tr>\n",
    "        <td>in</td>\n",
    "        <td>Returns True if a sequence with the specified value is present in the object</td>\n",
    "        <td>\n",
    "            <br>x = [\"apple\", \"banana\"]\n",
    "            <br>print(\"banana\" in x) , print(\"mango\" in x)            \n",
    "        </td>   \n",
    "        <td>True , False</td>\n",
    "    </tr>\n",
    "    <tr>\n",
    "        <td>in</td>\n",
    "        <td>Returns True if a sequence with the specified value is not present in the object</td>\n",
    "        <td>\n",
    "            <br>x = [\"apple\", \"banana\"]\n",
    "            <br>print(\"mango\" not in x) , print(\"apple\" not in x)            \n",
    "        </td>   \n",
    "        <td>True , False</td>\n",
    "    </tr>\n",
    "</table>"
   ]
  },
  {
   "cell_type": "markdown",
   "metadata": {},
   "source": [
    "\n"
   ]
  },
  {
   "cell_type": "code",
   "execution_count": 19,
   "metadata": {},
   "outputs": [
    {
     "data": {
      "text/plain": [
       "True"
      ]
     },
     "execution_count": 19,
     "metadata": {},
     "output_type": "execute_result"
    }
   ],
   "source": [
    "1==1"
   ]
  },
  {
   "cell_type": "code",
   "execution_count": null,
   "metadata": {},
   "outputs": [],
   "source": []
  }
 ],
 "metadata": {
  "kernelspec": {
   "display_name": "Python 3",
   "language": "python",
   "name": "python3"
  },
  "language_info": {
   "codemirror_mode": {
    "name": "ipython",
    "version": 3
   },
   "file_extension": ".py",
   "mimetype": "text/x-python",
   "name": "python",
   "nbconvert_exporter": "python",
   "pygments_lexer": "ipython3",
   "version": "3.8.5"
  }
 },
 "nbformat": 4,
 "nbformat_minor": 4
}
